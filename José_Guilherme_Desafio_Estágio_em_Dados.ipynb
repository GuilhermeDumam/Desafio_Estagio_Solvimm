{
  "nbformat": 4,
  "nbformat_minor": 0,
  "metadata": {
    "colab": {
      "name": "José_Guilherme_Desafio_Estágio_em_Dados.ipynb",
      "provenance": [],
      "authorship_tag": "ABX9TyMvqjiLF3VdK1jDe7yes1M0",
      "include_colab_link": true
    },
    "kernelspec": {
      "name": "python3",
      "display_name": "Python 3"
    },
    "language_info": {
      "name": "python"
    }
  },
  "cells": [
    {
      "cell_type": "markdown",
      "metadata": {
        "id": "view-in-github",
        "colab_type": "text"
      },
      "source": [
        "<a href=\"https://colab.research.google.com/github/GuilhermeDumam/Desafio_Estagio_Solvimm/blob/Master/Jos%C3%A9_Guilherme_Desafio_Est%C3%A1gio_em_Dados.ipynb\" target=\"_parent\"><img src=\"https://colab.research.google.com/assets/colab-badge.svg\" alt=\"Open In Colab\"/></a>"
      ]
    },
    {
      "cell_type": "code",
      "metadata": {
        "id": "bGV07i28HAC1"
      },
      "source": [
        "#importamos a biblioteca pandas e a chamaremos no notebook de 'pd'\n",
        "import pandas as pd"
      ],
      "execution_count": null,
      "outputs": []
    },
    {
      "cell_type": "code",
      "metadata": {
        "id": "YKyHWo6NHMP2"
      },
      "source": [
        "#criamos um data frame com os dados do movies.csv, utilizaremos o separador ponto vírgula e colocamos duas colunas\n",
        "df_movies = pd.read_csv('/content/movies.csv', sep = ';', names =['Movie_Id', 'movie'])"
      ],
      "execution_count": null,
      "outputs": []
    },
    {
      "cell_type": "code",
      "metadata": {
        "colab": {
          "base_uri": "https://localhost:8080/"
        },
        "id": "IcFWQ7hCKdyx",
        "outputId": "b7477922-4e77-497b-ed07-41bf7a44e2c5"
      },
      "source": [
        "#Questão 1.1 - Temos 4499 filmes no dataset. \n",
        "#Aqui a gente utiliza o método 'shape' para nos dizer a quantidade de linhas e colunas presente no data frame\n",
        "df_movies.shape"
      ],
      "execution_count": null,
      "outputs": [
        {
          "output_type": "execute_result",
          "data": {
            "text/plain": [
              "(4499, 2)"
            ]
          },
          "metadata": {},
          "execution_count": 20
        }
      ]
    },
    {
      "cell_type": "code",
      "metadata": {
        "colab": {
          "base_uri": "https://localhost:8080/",
          "height": 203
        },
        "id": "1fyun0J3KhzZ",
        "outputId": "ccfe2992-ab7b-4939-c8df-48ce11f558d0"
      },
      "source": [
        "#Utilizamos a função '.head' para imprimir as cinco primeiras linhas com todas as colunas\n",
        "df_movies.head(5)"
      ],
      "execution_count": null,
      "outputs": [
        {
          "output_type": "execute_result",
          "data": {
            "text/html": [
              "<div>\n",
              "<style scoped>\n",
              "    .dataframe tbody tr th:only-of-type {\n",
              "        vertical-align: middle;\n",
              "    }\n",
              "\n",
              "    .dataframe tbody tr th {\n",
              "        vertical-align: top;\n",
              "    }\n",
              "\n",
              "    .dataframe thead th {\n",
              "        text-align: right;\n",
              "    }\n",
              "</style>\n",
              "<table border=\"1\" class=\"dataframe\">\n",
              "  <thead>\n",
              "    <tr style=\"text-align: right;\">\n",
              "      <th></th>\n",
              "      <th>Movie_Id</th>\n",
              "      <th>movie</th>\n",
              "    </tr>\n",
              "  </thead>\n",
              "  <tbody>\n",
              "    <tr>\n",
              "      <th>0</th>\n",
              "      <td>1</td>\n",
              "      <td>(Dinosaur Planet, 2003)</td>\n",
              "    </tr>\n",
              "    <tr>\n",
              "      <th>1</th>\n",
              "      <td>2</td>\n",
              "      <td>(Isle of Man TT 2004 Review, 2004)</td>\n",
              "    </tr>\n",
              "    <tr>\n",
              "      <th>2</th>\n",
              "      <td>3</td>\n",
              "      <td>(Character, 1997)</td>\n",
              "    </tr>\n",
              "    <tr>\n",
              "      <th>3</th>\n",
              "      <td>4</td>\n",
              "      <td>(Paula Abdul's Get Up &amp; Dance, 1994)</td>\n",
              "    </tr>\n",
              "    <tr>\n",
              "      <th>4</th>\n",
              "      <td>5</td>\n",
              "      <td>(The Rise and Fall of ECW, 2004)</td>\n",
              "    </tr>\n",
              "  </tbody>\n",
              "</table>\n",
              "</div>"
            ],
            "text/plain": [
              "   Movie_Id                                 movie\n",
              "0         1               (Dinosaur Planet, 2003)\n",
              "1         2    (Isle of Man TT 2004 Review, 2004)\n",
              "2         3                     (Character, 1997)\n",
              "3         4  (Paula Abdul's Get Up & Dance, 1994)\n",
              "4         5      (The Rise and Fall of ECW, 2004)"
            ]
          },
          "metadata": {},
          "execution_count": 21
        }
      ]
    },
    {
      "cell_type": "code",
      "metadata": {
        "colab": {
          "base_uri": "https://localhost:8080/",
          "height": 203
        },
        "id": "1BMPe_2TNPBZ",
        "outputId": "9257dc9c-5b21-4451-b0b3-79d7b7dd9c28"
      },
      "source": [
        "#A função '.tail' mostra as últimas cinco linhas do data frame\n",
        "df_movies.tail(5)"
      ],
      "execution_count": null,
      "outputs": [
        {
          "output_type": "execute_result",
          "data": {
            "text/html": [
              "<div>\n",
              "<style scoped>\n",
              "    .dataframe tbody tr th:only-of-type {\n",
              "        vertical-align: middle;\n",
              "    }\n",
              "\n",
              "    .dataframe tbody tr th {\n",
              "        vertical-align: top;\n",
              "    }\n",
              "\n",
              "    .dataframe thead th {\n",
              "        text-align: right;\n",
              "    }\n",
              "</style>\n",
              "<table border=\"1\" class=\"dataframe\">\n",
              "  <thead>\n",
              "    <tr style=\"text-align: right;\">\n",
              "      <th></th>\n",
              "      <th>Movie_Id</th>\n",
              "      <th>movie</th>\n",
              "    </tr>\n",
              "  </thead>\n",
              "  <tbody>\n",
              "    <tr>\n",
              "      <th>4494</th>\n",
              "      <td>4495</td>\n",
              "      <td>(Clifford: Happy Birthday Clifford / Puppy Lov...</td>\n",
              "    </tr>\n",
              "    <tr>\n",
              "      <th>4495</th>\n",
              "      <td>4496</td>\n",
              "      <td>(Farewell My Concubine, 1993)</td>\n",
              "    </tr>\n",
              "    <tr>\n",
              "      <th>4496</th>\n",
              "      <td>4497</td>\n",
              "      <td>(Texasville, 1990)</td>\n",
              "    </tr>\n",
              "    <tr>\n",
              "      <th>4497</th>\n",
              "      <td>4498</td>\n",
              "      <td>(Gonin, 2000)</td>\n",
              "    </tr>\n",
              "    <tr>\n",
              "      <th>4498</th>\n",
              "      <td>4499</td>\n",
              "      <td>(In My Skin, 2002)</td>\n",
              "    </tr>\n",
              "  </tbody>\n",
              "</table>\n",
              "</div>"
            ],
            "text/plain": [
              "      Movie_Id                                              movie\n",
              "4494      4495  (Clifford: Happy Birthday Clifford / Puppy Lov...\n",
              "4495      4496                      (Farewell My Concubine, 1993)\n",
              "4496      4497                                 (Texasville, 1990)\n",
              "4497      4498                                      (Gonin, 2000)\n",
              "4498      4499                                 (In My Skin, 2002)"
            ]
          },
          "metadata": {},
          "execution_count": 22
        }
      ]
    },
    {
      "cell_type": "code",
      "metadata": {
        "colab": {
          "base_uri": "https://localhost:8080/"
        },
        "id": "4tq_iHeFNYLh",
        "outputId": "e9a0b256-d41c-4362-8cc5-438138b1260f"
      },
      "source": [
        "#Método '.columns' nos mostra quais e os nomes das colunas presentes no dataframe, além de seu tipo\n",
        "df_movies.columns"
      ],
      "execution_count": null,
      "outputs": [
        {
          "output_type": "execute_result",
          "data": {
            "text/plain": [
              "Index(['Movie_Id', 'movie'], dtype='object')"
            ]
          },
          "metadata": {},
          "execution_count": 23
        }
      ]
    },
    {
      "cell_type": "code",
      "metadata": {
        "colab": {
          "base_uri": "https://localhost:8080/"
        },
        "id": "yh8dN98yM5QY",
        "outputId": "48c67c12-dff7-4cee-b646-b214de6e6d18"
      },
      "source": [
        "#Chamamos a função 'info()' com o objetivo de nos mostrar informações sobre o dataframe, como quantidades de valores nulos, tipo dos dados, colunas, tamanho de uso da memória \n",
        "df_movies.info()"
      ],
      "execution_count": null,
      "outputs": [
        {
          "output_type": "stream",
          "name": "stdout",
          "text": [
            "<class 'pandas.core.frame.DataFrame'>\n",
            "RangeIndex: 4499 entries, 0 to 4498\n",
            "Data columns (total 2 columns):\n",
            " #   Column    Non-Null Count  Dtype \n",
            "---  ------    --------------  ----- \n",
            " 0   Movie_Id  4499 non-null   int64 \n",
            " 1   movie     4499 non-null   object\n",
            "dtypes: int64(1), object(1)\n",
            "memory usage: 70.4+ KB\n"
          ]
        }
      ]
    },
    {
      "cell_type": "code",
      "metadata": {
        "id": "jmOpSXxWQECG"
      },
      "source": [
        "#Aqui criamos a coluna 'Ano' aplicando uma função oculta que fez com a partir da vírgula na coluna 'movie' fosse feito uma quebra de string para lista pela função '.split'\n",
        "#e essa lista fosse colocada na coluna 'Ano' que foi criada. Percebe-se que a quebra se fez após a vírgula no segundo índice '[1]'\n",
        "df_movies['Ano'] = df_movies['movie'].apply(lambda x: x.split(',')[1].strip().replace(')',''))"
      ],
      "execution_count": null,
      "outputs": []
    },
    {
      "cell_type": "code",
      "metadata": {
        "colab": {
          "base_uri": "https://localhost:8080/",
          "height": 203
        },
        "id": "Va8Z6eU6R_bE",
        "outputId": "f21cc645-8ff8-43bc-d227-529dec6b00f7"
      },
      "source": [
        "#Chamamos a função '.head' de novo para nos mostrar como está o dataframe depois que adicionamos a coluna 'Ano' a ele.\n",
        "df_movies.head()"
      ],
      "execution_count": null,
      "outputs": [
        {
          "output_type": "execute_result",
          "data": {
            "text/html": [
              "<div>\n",
              "<style scoped>\n",
              "    .dataframe tbody tr th:only-of-type {\n",
              "        vertical-align: middle;\n",
              "    }\n",
              "\n",
              "    .dataframe tbody tr th {\n",
              "        vertical-align: top;\n",
              "    }\n",
              "\n",
              "    .dataframe thead th {\n",
              "        text-align: right;\n",
              "    }\n",
              "</style>\n",
              "<table border=\"1\" class=\"dataframe\">\n",
              "  <thead>\n",
              "    <tr style=\"text-align: right;\">\n",
              "      <th></th>\n",
              "      <th>Movie_Id</th>\n",
              "      <th>movie</th>\n",
              "      <th>Ano</th>\n",
              "      <th>Nome_Filme</th>\n",
              "    </tr>\n",
              "  </thead>\n",
              "  <tbody>\n",
              "    <tr>\n",
              "      <th>0</th>\n",
              "      <td>1</td>\n",
              "      <td>(Dinosaur Planet, 2003)</td>\n",
              "      <td>2003</td>\n",
              "      <td>Dinosaur Planet</td>\n",
              "    </tr>\n",
              "    <tr>\n",
              "      <th>1</th>\n",
              "      <td>2</td>\n",
              "      <td>(Isle of Man TT 2004 Review, 2004)</td>\n",
              "      <td>2004</td>\n",
              "      <td>Isle of Man TT 2004 Review</td>\n",
              "    </tr>\n",
              "    <tr>\n",
              "      <th>2</th>\n",
              "      <td>3</td>\n",
              "      <td>(Character, 1997)</td>\n",
              "      <td>1997</td>\n",
              "      <td>Character</td>\n",
              "    </tr>\n",
              "    <tr>\n",
              "      <th>3</th>\n",
              "      <td>4</td>\n",
              "      <td>(Paula Abdul's Get Up &amp; Dance, 1994)</td>\n",
              "      <td>1994</td>\n",
              "      <td>Paula Abdul's Get Up &amp; Dance</td>\n",
              "    </tr>\n",
              "    <tr>\n",
              "      <th>4</th>\n",
              "      <td>5</td>\n",
              "      <td>(The Rise and Fall of ECW, 2004)</td>\n",
              "      <td>2004</td>\n",
              "      <td>The Rise and Fall of ECW</td>\n",
              "    </tr>\n",
              "  </tbody>\n",
              "</table>\n",
              "</div>"
            ],
            "text/plain": [
              "   Movie_Id  ...                    Nome_Filme\n",
              "0         1  ...               Dinosaur Planet\n",
              "1         2  ...    Isle of Man TT 2004 Review\n",
              "2         3  ...                     Character\n",
              "3         4  ...  Paula Abdul's Get Up & Dance\n",
              "4         5  ...      The Rise and Fall of ECW\n",
              "\n",
              "[5 rows x 4 columns]"
            ]
          },
          "metadata": {},
          "execution_count": 76
        }
      ]
    },
    {
      "cell_type": "code",
      "metadata": {
        "id": "3LdOvrVQSBTa"
      },
      "source": [
        "#Criação da coluna 'Nome_Filme' a partir da quebra da string da coluna 'movie' e a troca do parenteses e da vírgula por espaço em branco.\n",
        "df_movies['Nome_Filme'] = df_movies['movie'].apply(lambda x: x.split(',')[0].replace('(',''))"
      ],
      "execution_count": null,
      "outputs": []
    },
    {
      "cell_type": "code",
      "metadata": {
        "id": "KawLUndePNDz"
      },
      "source": [
        "#Aqui criamos um outro dataframe para podermos manipula-lo sem alterar o conteúdo original. Descartamos a coluna 'movie' do dataframe original.\n",
        "df_movies_filter = df_movies.drop(columns='movie')"
      ],
      "execution_count": null,
      "outputs": []
    },
    {
      "cell_type": "code",
      "metadata": {
        "id": "VoGTb1vFKf4v",
        "colab": {
          "base_uri": "https://localhost:8080/",
          "height": 203
        },
        "outputId": "965d17c2-016c-497d-e264-f0989e287299"
      },
      "source": [
        "#Usamos o '.head' para checarmos como está o dataframe original com as novas colunas.\n",
        "df_movies.head()"
      ],
      "execution_count": null,
      "outputs": [
        {
          "output_type": "execute_result",
          "data": {
            "text/html": [
              "<div>\n",
              "<style scoped>\n",
              "    .dataframe tbody tr th:only-of-type {\n",
              "        vertical-align: middle;\n",
              "    }\n",
              "\n",
              "    .dataframe tbody tr th {\n",
              "        vertical-align: top;\n",
              "    }\n",
              "\n",
              "    .dataframe thead th {\n",
              "        text-align: right;\n",
              "    }\n",
              "</style>\n",
              "<table border=\"1\" class=\"dataframe\">\n",
              "  <thead>\n",
              "    <tr style=\"text-align: right;\">\n",
              "      <th></th>\n",
              "      <th>Movie_Id</th>\n",
              "      <th>movie</th>\n",
              "      <th>Ano</th>\n",
              "      <th>Nome_Filme</th>\n",
              "    </tr>\n",
              "  </thead>\n",
              "  <tbody>\n",
              "    <tr>\n",
              "      <th>0</th>\n",
              "      <td>1</td>\n",
              "      <td>(Dinosaur Planet, 2003)</td>\n",
              "      <td>2003</td>\n",
              "      <td>Dinosaur Planet</td>\n",
              "    </tr>\n",
              "    <tr>\n",
              "      <th>1</th>\n",
              "      <td>2</td>\n",
              "      <td>(Isle of Man TT 2004 Review, 2004)</td>\n",
              "      <td>2004</td>\n",
              "      <td>Isle of Man TT 2004 Review</td>\n",
              "    </tr>\n",
              "    <tr>\n",
              "      <th>2</th>\n",
              "      <td>3</td>\n",
              "      <td>(Character, 1997)</td>\n",
              "      <td>1997</td>\n",
              "      <td>Character</td>\n",
              "    </tr>\n",
              "    <tr>\n",
              "      <th>3</th>\n",
              "      <td>4</td>\n",
              "      <td>(Paula Abdul's Get Up &amp; Dance, 1994)</td>\n",
              "      <td>1994</td>\n",
              "      <td>Paula Abdul's Get Up &amp; Dance</td>\n",
              "    </tr>\n",
              "    <tr>\n",
              "      <th>4</th>\n",
              "      <td>5</td>\n",
              "      <td>(The Rise and Fall of ECW, 2004)</td>\n",
              "      <td>2004</td>\n",
              "      <td>The Rise and Fall of ECW</td>\n",
              "    </tr>\n",
              "  </tbody>\n",
              "</table>\n",
              "</div>"
            ],
            "text/plain": [
              "   Movie_Id  ...                    Nome_Filme\n",
              "0         1  ...               Dinosaur Planet\n",
              "1         2  ...    Isle of Man TT 2004 Review\n",
              "2         3  ...                     Character\n",
              "3         4  ...  Paula Abdul's Get Up & Dance\n",
              "4         5  ...      The Rise and Fall of ECW\n",
              "\n",
              "[5 rows x 4 columns]"
            ]
          },
          "metadata": {},
          "execution_count": 80
        }
      ]
    },
    {
      "cell_type": "code",
      "metadata": {
        "colab": {
          "base_uri": "https://localhost:8080/",
          "height": 49
        },
        "id": "lZWPznI45OB8",
        "outputId": "5ee63eb0-e258-4543-a8f5-4ffc0144e9d1"
      },
      "source": [
        "#usamos a função .duplicated para retornar um valor verdadeiro se houver alguma linha duplicada. No caso abaixo, nenhum valor é duplicado.\n",
        "df_movies[df_movies.duplicated()]"
      ],
      "execution_count": null,
      "outputs": [
        {
          "output_type": "execute_result",
          "data": {
            "text/html": [
              "<div>\n",
              "<style scoped>\n",
              "    .dataframe tbody tr th:only-of-type {\n",
              "        vertical-align: middle;\n",
              "    }\n",
              "\n",
              "    .dataframe tbody tr th {\n",
              "        vertical-align: top;\n",
              "    }\n",
              "\n",
              "    .dataframe thead th {\n",
              "        text-align: right;\n",
              "    }\n",
              "</style>\n",
              "<table border=\"1\" class=\"dataframe\">\n",
              "  <thead>\n",
              "    <tr style=\"text-align: right;\">\n",
              "      <th></th>\n",
              "      <th>Movie_Id</th>\n",
              "      <th>movie</th>\n",
              "      <th>Ano</th>\n",
              "      <th>Nome_Filme</th>\n",
              "    </tr>\n",
              "  </thead>\n",
              "  <tbody>\n",
              "  </tbody>\n",
              "</table>\n",
              "</div>"
            ],
            "text/plain": [
              "Empty DataFrame\n",
              "Columns: [Movie_Id, movie, Ano, Nome_Filme]\n",
              "Index: []"
            ]
          },
          "metadata": {},
          "execution_count": 30
        }
      ]
    },
    {
      "cell_type": "code",
      "metadata": {
        "colab": {
          "base_uri": "https://localhost:8080/",
          "height": 203
        },
        "id": "Sfr0J6vN4nr1",
        "outputId": "b6101468-da0e-46d6-828c-e34cbf99a9a6"
      },
      "source": [
        "#.head para imprimir as cinco primeiras linhas do novo dataframe. \n",
        "df_movies_filter.head()"
      ],
      "execution_count": null,
      "outputs": [
        {
          "output_type": "execute_result",
          "data": {
            "text/html": [
              "<div>\n",
              "<style scoped>\n",
              "    .dataframe tbody tr th:only-of-type {\n",
              "        vertical-align: middle;\n",
              "    }\n",
              "\n",
              "    .dataframe tbody tr th {\n",
              "        vertical-align: top;\n",
              "    }\n",
              "\n",
              "    .dataframe thead th {\n",
              "        text-align: right;\n",
              "    }\n",
              "</style>\n",
              "<table border=\"1\" class=\"dataframe\">\n",
              "  <thead>\n",
              "    <tr style=\"text-align: right;\">\n",
              "      <th></th>\n",
              "      <th>Movie_Id</th>\n",
              "      <th>Ano</th>\n",
              "      <th>Nome_Filme</th>\n",
              "    </tr>\n",
              "  </thead>\n",
              "  <tbody>\n",
              "    <tr>\n",
              "      <th>0</th>\n",
              "      <td>1</td>\n",
              "      <td>2003</td>\n",
              "      <td>Dinosaur Planet</td>\n",
              "    </tr>\n",
              "    <tr>\n",
              "      <th>1</th>\n",
              "      <td>2</td>\n",
              "      <td>2004</td>\n",
              "      <td>Isle of Man TT 2004 Review</td>\n",
              "    </tr>\n",
              "    <tr>\n",
              "      <th>2</th>\n",
              "      <td>3</td>\n",
              "      <td>1997</td>\n",
              "      <td>Character</td>\n",
              "    </tr>\n",
              "    <tr>\n",
              "      <th>3</th>\n",
              "      <td>4</td>\n",
              "      <td>1994</td>\n",
              "      <td>Paula Abdul's Get Up &amp; Dance</td>\n",
              "    </tr>\n",
              "    <tr>\n",
              "      <th>4</th>\n",
              "      <td>5</td>\n",
              "      <td>2004</td>\n",
              "      <td>The Rise and Fall of ECW</td>\n",
              "    </tr>\n",
              "  </tbody>\n",
              "</table>\n",
              "</div>"
            ],
            "text/plain": [
              "   Movie_Id   Ano                    Nome_Filme\n",
              "0         1  2003               Dinosaur Planet\n",
              "1         2  2004    Isle of Man TT 2004 Review\n",
              "2         3  1997                     Character\n",
              "3         4  1994  Paula Abdul's Get Up & Dance\n",
              "4         5  2004      The Rise and Fall of ECW"
            ]
          },
          "metadata": {},
          "execution_count": 81
        }
      ]
    },
    {
      "cell_type": "code",
      "metadata": {
        "id": "PXk7RNm96asX"
      },
      "source": [
        "##Questão 1.3\n",
        "#Aqui colocamos a coluna 'Movie_Id' como coluna indexadora, após isso, dropamos ela para podermos ficar com apenas a coluna de ano e nome de filme.\n",
        "#O inplace = true faz com que a coluna seja excluída, por default seria false, o que faria com que uma cópia fosse criada e armazenada na memória.\n",
        "df_movies_filter.index = df_movies_filter['Movie_Id']\n",
        "df_movies_filter.drop(columns='Movie_Id', inplace = True)"
      ],
      "execution_count": null,
      "outputs": []
    },
    {
      "cell_type": "code",
      "metadata": {
        "colab": {
          "base_uri": "https://localhost:8080/"
        },
        "id": "_EKPedl-9eIo",
        "outputId": "65dbdee1-1f10-4764-cdb0-6974821133fd"
      },
      "source": [
        "#Aqui podemos ver que temos apenas 2 tabelas.\n",
        "df_movies_filter.info()"
      ],
      "execution_count": null,
      "outputs": [
        {
          "output_type": "stream",
          "name": "stdout",
          "text": [
            "<class 'pandas.core.frame.DataFrame'>\n",
            "Int64Index: 4499 entries, 1 to 4499\n",
            "Data columns (total 2 columns):\n",
            " #   Column      Non-Null Count  Dtype \n",
            "---  ------      --------------  ----- \n",
            " 0   Ano         4499 non-null   object\n",
            " 1   Nome_Filme  4499 non-null   object\n",
            "dtypes: object(2)\n",
            "memory usage: 105.4+ KB\n"
          ]
        }
      ]
    },
    {
      "cell_type": "code",
      "metadata": {
        "colab": {
          "base_uri": "https://localhost:8080/"
        },
        "id": "9w5izwZM-NBa",
        "outputId": "0ba98931-9e7c-4454-a5cf-6ce54a99e402"
      },
      "source": [
        "#Questão 1.3 - Os cinco anos que menos lançaram filme estão listados abaixo.\n",
        "#Agrupamos por ano, colocamos para contar a quantidade de itens na coluna 'Nome_Filme' em ordem crescente, os cinco primeiros itens. \n",
        "df_movies_filter.groupby(by='Ano')['Nome_Filme'].count().sort_values(ascending = True).head(5)\n",
        "#Houve anos que teve o mesmo número de lançamento (1916,1918,1924,1929,1931)"
      ],
      "execution_count": null,
      "outputs": [
        {
          "output_type": "execute_result",
          "data": {
            "text/plain": [
              "Ano\n",
              "1915    1\n",
              "1917    1\n",
              "1922    1\n",
              "1926    1\n",
              "1916    2\n",
              "Name: Nome_Filme, dtype: int64"
            ]
          },
          "metadata": {},
          "execution_count": 88
        }
      ]
    },
    {
      "cell_type": "code",
      "metadata": {
        "id": "KwfCld2MCn99"
      },
      "source": [
        "##Para respondermos as demais questões, vamos precisar importar o dataset 'customers_rating.csv' \n",
        "df_customers_rating = pd.read_csv('/content/customers_rating.csv', sep =';')"
      ],
      "execution_count": null,
      "outputs": []
    },
    {
      "cell_type": "code",
      "metadata": {
        "colab": {
          "base_uri": "https://localhost:8080/"
        },
        "id": "qY7vY-diHYiK",
        "outputId": "c7732ff8-3b64-47b4-fdf1-61e405678c29"
      },
      "source": [
        "#Quantas linhas e quantas colunas temos no dataframe. \n",
        "df_customers_rating.shape"
      ],
      "execution_count": null,
      "outputs": [
        {
          "output_type": "execute_result",
          "data": {
            "text/plain": [
              "(24053764, 4)"
            ]
          },
          "metadata": {},
          "execution_count": 39
        }
      ]
    },
    {
      "cell_type": "code",
      "metadata": {
        "colab": {
          "base_uri": "https://localhost:8080/"
        },
        "id": "1XVrJjuaHm6M",
        "outputId": "358c907a-021e-4a60-80a9-fc2d41a6a068"
      },
      "source": [
        "df_customers_rating.info()"
      ],
      "execution_count": null,
      "outputs": [
        {
          "output_type": "stream",
          "name": "stdout",
          "text": [
            "<class 'pandas.core.frame.DataFrame'>\n",
            "RangeIndex: 24053764 entries, 0 to 24053763\n",
            "Data columns (total 4 columns):\n",
            " #   Column    Dtype  \n",
            "---  ------    -----  \n",
            " 0   Cust_Id   int64  \n",
            " 1   Rating    float64\n",
            " 2   Date      object \n",
            " 3   Movie_Id  int64  \n",
            "dtypes: float64(1), int64(2), object(1)\n",
            "memory usage: 734.1+ MB\n"
          ]
        }
      ]
    },
    {
      "cell_type": "code",
      "metadata": {
        "colab": {
          "base_uri": "https://localhost:8080/",
          "height": 203
        },
        "id": "q0v1cIP4IOc-",
        "outputId": "3205d23b-98a8-4b59-9ad1-f21d87fbef9b"
      },
      "source": [
        "df_customers_rating.head()"
      ],
      "execution_count": null,
      "outputs": [
        {
          "output_type": "execute_result",
          "data": {
            "text/html": [
              "<div>\n",
              "<style scoped>\n",
              "    .dataframe tbody tr th:only-of-type {\n",
              "        vertical-align: middle;\n",
              "    }\n",
              "\n",
              "    .dataframe tbody tr th {\n",
              "        vertical-align: top;\n",
              "    }\n",
              "\n",
              "    .dataframe thead th {\n",
              "        text-align: right;\n",
              "    }\n",
              "</style>\n",
              "<table border=\"1\" class=\"dataframe\">\n",
              "  <thead>\n",
              "    <tr style=\"text-align: right;\">\n",
              "      <th></th>\n",
              "      <th>Cust_Id</th>\n",
              "      <th>Rating</th>\n",
              "      <th>Date</th>\n",
              "      <th>Movie_Id</th>\n",
              "    </tr>\n",
              "  </thead>\n",
              "  <tbody>\n",
              "    <tr>\n",
              "      <th>0</th>\n",
              "      <td>1488844</td>\n",
              "      <td>3.0</td>\n",
              "      <td>2005-09-06</td>\n",
              "      <td>1</td>\n",
              "    </tr>\n",
              "    <tr>\n",
              "      <th>1</th>\n",
              "      <td>822109</td>\n",
              "      <td>5.0</td>\n",
              "      <td>2005-05-13</td>\n",
              "      <td>1</td>\n",
              "    </tr>\n",
              "    <tr>\n",
              "      <th>2</th>\n",
              "      <td>885013</td>\n",
              "      <td>4.0</td>\n",
              "      <td>2005-10-19</td>\n",
              "      <td>1</td>\n",
              "    </tr>\n",
              "    <tr>\n",
              "      <th>3</th>\n",
              "      <td>30878</td>\n",
              "      <td>4.0</td>\n",
              "      <td>2005-12-26</td>\n",
              "      <td>1</td>\n",
              "    </tr>\n",
              "    <tr>\n",
              "      <th>4</th>\n",
              "      <td>823519</td>\n",
              "      <td>3.0</td>\n",
              "      <td>2004-05-03</td>\n",
              "      <td>1</td>\n",
              "    </tr>\n",
              "  </tbody>\n",
              "</table>\n",
              "</div>"
            ],
            "text/plain": [
              "   Cust_Id  Rating        Date  Movie_Id\n",
              "0  1488844     3.0  2005-09-06         1\n",
              "1   822109     5.0  2005-05-13         1\n",
              "2   885013     4.0  2005-10-19         1\n",
              "3    30878     4.0  2005-12-26         1\n",
              "4   823519     3.0  2004-05-03         1"
            ]
          },
          "metadata": {},
          "execution_count": 41
        }
      ]
    },
    {
      "cell_type": "code",
      "metadata": {
        "colab": {
          "base_uri": "https://localhost:8080/",
          "height": 49
        },
        "id": "fbkgLw63ISeK",
        "outputId": "62ef248b-86d3-4028-cad5-78fef6a8d5de"
      },
      "source": [
        "df_customers_rating[df_customers_rating.duplicated()]"
      ],
      "execution_count": null,
      "outputs": [
        {
          "output_type": "execute_result",
          "data": {
            "text/html": [
              "<div>\n",
              "<style scoped>\n",
              "    .dataframe tbody tr th:only-of-type {\n",
              "        vertical-align: middle;\n",
              "    }\n",
              "\n",
              "    .dataframe tbody tr th {\n",
              "        vertical-align: top;\n",
              "    }\n",
              "\n",
              "    .dataframe thead th {\n",
              "        text-align: right;\n",
              "    }\n",
              "</style>\n",
              "<table border=\"1\" class=\"dataframe\">\n",
              "  <thead>\n",
              "    <tr style=\"text-align: right;\">\n",
              "      <th></th>\n",
              "      <th>Cust_Id</th>\n",
              "      <th>Rating</th>\n",
              "      <th>Date</th>\n",
              "      <th>Movie_Id</th>\n",
              "    </tr>\n",
              "  </thead>\n",
              "  <tbody>\n",
              "  </tbody>\n",
              "</table>\n",
              "</div>"
            ],
            "text/plain": [
              "Empty DataFrame\n",
              "Columns: [Cust_Id, Rating, Date, Movie_Id]\n",
              "Index: []"
            ]
          },
          "metadata": {},
          "execution_count": 42
        }
      ]
    },
    {
      "cell_type": "code",
      "metadata": {
        "id": "FlMp6cfTJQbo"
      },
      "source": [
        "#Para podermos analisar as informações de avaliações dos filmes, precisamos juntar as tabelas de avaliação e filmes para podermos fazer as análises necessárias\n",
        "#Aqui criamos um novo dataframe contendo a junção das tabelas de customers e movies, usando a coluna 'movie id' como chave de join.\n",
        "df_total = df_customers_rating.join(df_movies_filter, on = 'Movie_Id', how = 'inner')"
      ],
      "execution_count": null,
      "outputs": []
    },
    {
      "cell_type": "code",
      "metadata": {
        "colab": {
          "base_uri": "https://localhost:8080/",
          "height": 203
        },
        "id": "mS0Ex1yQLvJY",
        "outputId": "877ad438-2377-4f1f-d6b6-8af74c1834af"
      },
      "source": [
        "df_total.head()"
      ],
      "execution_count": null,
      "outputs": [
        {
          "output_type": "execute_result",
          "data": {
            "text/html": [
              "<div>\n",
              "<style scoped>\n",
              "    .dataframe tbody tr th:only-of-type {\n",
              "        vertical-align: middle;\n",
              "    }\n",
              "\n",
              "    .dataframe tbody tr th {\n",
              "        vertical-align: top;\n",
              "    }\n",
              "\n",
              "    .dataframe thead th {\n",
              "        text-align: right;\n",
              "    }\n",
              "</style>\n",
              "<table border=\"1\" class=\"dataframe\">\n",
              "  <thead>\n",
              "    <tr style=\"text-align: right;\">\n",
              "      <th></th>\n",
              "      <th>Cust_Id</th>\n",
              "      <th>Rating</th>\n",
              "      <th>Date</th>\n",
              "      <th>Movie_Id</th>\n",
              "      <th>Ano</th>\n",
              "      <th>Nome_Filme</th>\n",
              "    </tr>\n",
              "  </thead>\n",
              "  <tbody>\n",
              "    <tr>\n",
              "      <th>0</th>\n",
              "      <td>1488844</td>\n",
              "      <td>3.0</td>\n",
              "      <td>2005-09-06</td>\n",
              "      <td>1</td>\n",
              "      <td>2003</td>\n",
              "      <td>Dinosaur Planet</td>\n",
              "    </tr>\n",
              "    <tr>\n",
              "      <th>1</th>\n",
              "      <td>822109</td>\n",
              "      <td>5.0</td>\n",
              "      <td>2005-05-13</td>\n",
              "      <td>1</td>\n",
              "      <td>2003</td>\n",
              "      <td>Dinosaur Planet</td>\n",
              "    </tr>\n",
              "    <tr>\n",
              "      <th>2</th>\n",
              "      <td>885013</td>\n",
              "      <td>4.0</td>\n",
              "      <td>2005-10-19</td>\n",
              "      <td>1</td>\n",
              "      <td>2003</td>\n",
              "      <td>Dinosaur Planet</td>\n",
              "    </tr>\n",
              "    <tr>\n",
              "      <th>3</th>\n",
              "      <td>30878</td>\n",
              "      <td>4.0</td>\n",
              "      <td>2005-12-26</td>\n",
              "      <td>1</td>\n",
              "      <td>2003</td>\n",
              "      <td>Dinosaur Planet</td>\n",
              "    </tr>\n",
              "    <tr>\n",
              "      <th>4</th>\n",
              "      <td>823519</td>\n",
              "      <td>3.0</td>\n",
              "      <td>2004-05-03</td>\n",
              "      <td>1</td>\n",
              "      <td>2003</td>\n",
              "      <td>Dinosaur Planet</td>\n",
              "    </tr>\n",
              "  </tbody>\n",
              "</table>\n",
              "</div>"
            ],
            "text/plain": [
              "   Cust_Id  Rating        Date  Movie_Id   Ano       Nome_Filme\n",
              "0  1488844     3.0  2005-09-06         1  2003  Dinosaur Planet\n",
              "1   822109     5.0  2005-05-13         1  2003  Dinosaur Planet\n",
              "2   885013     4.0  2005-10-19         1  2003  Dinosaur Planet\n",
              "3    30878     4.0  2005-12-26         1  2003  Dinosaur Planet\n",
              "4   823519     3.0  2004-05-03         1  2003  Dinosaur Planet"
            ]
          },
          "metadata": {},
          "execution_count": 44
        }
      ]
    },
    {
      "cell_type": "code",
      "metadata": {
        "colab": {
          "base_uri": "https://localhost:8080/"
        },
        "id": "qOIM_3UbLBiR",
        "outputId": "39356fb3-c351-43ef-e962-101202c104c7"
      },
      "source": [
        "#Questão 1.2 - Os cinco melhores filmes em média de avaliação estão listados abaixo.\n",
        "#Usamos da mesma lógica para responder a 1.3; usamos a coluna 'Nome_Filme' como coluna de filtro, e colocamos a média das avaliações\n",
        "#em ordem decrescente, imprimos os 5 primeiros valores para obtermos a resposta da pergunta.\n",
        "df_total.groupby(by='Nome_Filme')['Rating'].mean().sort_values(ascending=False).head(5)"
      ],
      "execution_count": null,
      "outputs": [
        {
          "output_type": "execute_result",
          "data": {
            "text/plain": [
              "Nome_Filme\n",
              "Lost: Season 1                                                                 4.670989\n",
              "Ghost in the Shell: Stand Alone Complex: 2nd Gig                               4.586364\n",
              "The Simpsons: Season 6                                                         4.581296\n",
              "Inu-Yasha                                                                      4.554434\n",
              "Lord of the Rings: The Return of the King: Extended Edition: Bonus Material    4.552000\n",
              "Name: Rating, dtype: float64"
            ]
          },
          "metadata": {},
          "execution_count": 45
        }
      ]
    },
    {
      "cell_type": "code",
      "metadata": {
        "id": "WM0iMq1GL9m5"
      },
      "source": [
        "#Questão 1.4"
      ],
      "execution_count": null,
      "outputs": []
    },
    {
      "cell_type": "code",
      "metadata": {
        "id": "u1a4VM69Otw9"
      },
      "source": [
        "#Transformamos a coluna 'Date' em uma coluna do tipo 'DATETIME' para podermos manipular as datas.\n",
        "df_total['Date']= pd.to_datetime(df_total['Date'])"
      ],
      "execution_count": null,
      "outputs": []
    },
    {
      "cell_type": "code",
      "metadata": {
        "colab": {
          "base_uri": "https://localhost:8080/"
        },
        "id": "138HjcLbO6tq",
        "outputId": "68130e1a-85c2-4714-b351-7ce1abe2b89d"
      },
      "source": [
        "#Percebe-se que a coluna 'Date' agora é uma coluna do tipo 'datetime'\n",
        "df_total.info()"
      ],
      "execution_count": null,
      "outputs": [
        {
          "output_type": "stream",
          "name": "stdout",
          "text": [
            "<class 'pandas.core.frame.DataFrame'>\n",
            "Int64Index: 24053764 entries, 0 to 24053763\n",
            "Data columns (total 6 columns):\n",
            " #   Column      Dtype         \n",
            "---  ------      -----         \n",
            " 0   Cust_Id     int64         \n",
            " 1   Rating      float64       \n",
            " 2   Date        datetime64[ns]\n",
            " 3   Movie_Id    int64         \n",
            " 4   Ano         object        \n",
            " 5   Nome_Filme  object        \n",
            "dtypes: datetime64[ns](1), float64(1), int64(2), object(2)\n",
            "memory usage: 1.3+ GB\n"
          ]
        }
      ]
    },
    {
      "cell_type": "code",
      "metadata": {
        "id": "RODYS3FdPFct"
      },
      "source": [
        "#Aqui criamos uma lista que recebe os máximos valores únicos de data dentro do dataframe total\n",
        "avaliacao_ultima_data = df_total[df_total['Date'] == df_total['Date'].unique().max()]"
      ],
      "execution_count": null,
      "outputs": []
    },
    {
      "cell_type": "code",
      "metadata": {
        "id": "bHoFI751Psn-"
      },
      "source": [
        "#criamos uma lista que recebe os valores médios das avaliações agrupadas pelo 'nome_filme' em ordem crescente; usamos o 'reset_index()' para criarmos uma coluna\n",
        "#de index que comece do 0 e vá até o total de linhas.\n",
        "media_avaliacao = avaliacao_ultima_data.groupby(by='Nome_Filme')['Rating'].mean().sort_values(ascending=True).reset_index()"
      ],
      "execution_count": null,
      "outputs": []
    },
    {
      "cell_type": "code",
      "metadata": {
        "colab": {
          "base_uri": "https://localhost:8080/"
        },
        "id": "Glw6SLepQVfC",
        "outputId": "2eb24e34-7a50-48c0-807e-46a13b63f229"
      },
      "source": [
        "print(media_avaliacao)"
      ],
      "execution_count": null,
      "outputs": [
        {
          "output_type": "stream",
          "name": "stdout",
          "text": [
            "                                             Nome_Filme  Rating\n",
            "0                                              The Muse     1.0\n",
            "1     Commanding Heights: The Battle for the World E...     1.0\n",
            "2                  Midsomer Murders: Ring Out Your Dead     1.0\n",
            "3                                   Grand Theft Parsons     1.0\n",
            "4                                           Convict 762     1.0\n",
            "...                                                 ...     ...\n",
            "1571                                     Mansfield Park     5.0\n",
            "1572                                        Hard Boiled     5.0\n",
            "1573  The Outer Limits: The New Series: Aliens Among Us     5.0\n",
            "1574                             The Poseidon Adventure     5.0\n",
            "1575                                   The Great Gatsby     5.0\n",
            "\n",
            "[1576 rows x 2 columns]\n"
          ]
        }
      ]
    },
    {
      "cell_type": "code",
      "metadata": {
        "colab": {
          "base_uri": "https://localhost:8080/"
        },
        "id": "AOUlr_vnQ33M",
        "outputId": "96dadca0-d80d-4bc3-ef34-6350cdfb7ad1"
      },
      "source": [
        "#Questão 1.4 - abaixo se encontra a quantidade de filmes com média de avaliação acima de 4.7 apenas no último ano de avaliação do dataset.\n",
        "#Chamamos dentro da lista de média de avaliação onde os 'Ratings' que são maiores ou iguais a 4.7. Colocamos 'Nome_Filme'.count() para contar em referência da coluna.\n",
        "media_avaliacao[media_avaliacao['Rating'] >= 4.7]['Nome_Filme'].count()"
      ],
      "execution_count": null,
      "outputs": [
        {
          "output_type": "execute_result",
          "data": {
            "text/plain": [
              "192"
            ]
          },
          "metadata": {},
          "execution_count": 68
        }
      ]
    },
    {
      "cell_type": "code",
      "metadata": {
        "colab": {
          "base_uri": "https://localhost:8080/"
        },
        "id": "JFtu_T-sR0M4",
        "outputId": "2e2b5482-0dc1-47a3-817a-a24231a08134"
      },
      "source": [
        "#Questão 1.5\n",
        "#Aqui nós agrupamos pelo 'Nome_Filme' a média em ordem crescente dos 10 primeiros filmes com a menor nota.\n",
        "avaliacao_ultima_data.groupby(by='Nome_Filme')['Rating'].mean().sort_values(ascending = True).head(10)"
      ],
      "execution_count": null,
      "outputs": [
        {
          "output_type": "execute_result",
          "data": {
            "text/plain": [
              "Nome_Filme\n",
              "The Muse                                                1.0\n",
              "Commanding Heights: The Battle for the World Economy    1.0\n",
              "Midsomer Murders: Ring Out Your Dead                    1.0\n",
              "Grand Theft Parsons                                     1.0\n",
              "Convict 762                                             1.0\n",
              "Cop and a Half                                          1.0\n",
              "I Love Lucy: Season 2                                   1.0\n",
              "Angel Sanctuary                                         1.0\n",
              "The Closet                                              1.0\n",
              "Slam                                                    1.0\n",
              "Name: Rating, dtype: float64"
            ]
          },
          "metadata": {},
          "execution_count": 70
        }
      ]
    },
    {
      "cell_type": "code",
      "metadata": {
        "colab": {
          "base_uri": "https://localhost:8080/"
        },
        "id": "6DHW-VkDTtQV",
        "outputId": "6d27f1e3-7644-4528-88e3-bea3a00e0893"
      },
      "source": [
        "#Questão 1.6 - O ID dos  5 cliente que mais avaliariam e a quantidade de avaliações que ele fez está abaixo.\n",
        "#Aqui nós agrupamos pelo Id do cliente, as cinco primeiras avaliações em ordem decrescente.\n",
        "df_total.groupby(by='Cust_Id')['Rating'].count().sort_values(ascending=False).head(5)"
      ],
      "execution_count": null,
      "outputs": [
        {
          "output_type": "execute_result",
          "data": {
            "text/plain": [
              "Cust_Id\n",
              "305344     4467\n",
              "387418     4422\n",
              "2439493    4195\n",
              "1664010    4019\n",
              "2118461    3769\n",
              "Name: Rating, dtype: int64"
            ]
          },
          "metadata": {},
          "execution_count": 72
        }
      ]
    },
    {
      "cell_type": "code",
      "metadata": {
        "id": "7GieJfRsY8QL"
      },
      "source": [
        "#Muito Obrigado!"
      ],
      "execution_count": null,
      "outputs": []
    }
  ]
}