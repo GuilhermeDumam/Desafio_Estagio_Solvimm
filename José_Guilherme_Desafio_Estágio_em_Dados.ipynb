{
  "nbformat": 4,
  "nbformat_minor": 0,
  "metadata": {
    "colab": {
      "name": "José_Guilherme_Desafio_Estágio_em_Dados.ipynb",
      "provenance": [],
      "collapsed_sections": [],
      "include_colab_link": true
    },
    "kernelspec": {
      "name": "python3",
      "display_name": "Python 3"
    },
    "language_info": {
      "name": "python"
    }
  },
  "cells": [
    {
      "cell_type": "markdown",
      "metadata": {
        "id": "view-in-github",
        "colab_type": "text"
      },
      "source": [
        "<a href=\"https://colab.research.google.com/github/GuilhermeDumam/Desafio_Estagio_Solvimm/blob/Master/Jos%C3%A9_Guilherme_Desafio_Est%C3%A1gio_em_Dados.ipynb\" target=\"_parent\"><img src=\"https://colab.research.google.com/assets/colab-badge.svg\" alt=\"Open In Colab\"/></a>"
      ]
    },
    {
      "cell_type": "markdown",
      "metadata": {
        "id": "52Gf1oEwO6lI"
      },
      "source": [
        "# Desafio Solvimm"
      ]
    },
    {
      "cell_type": "markdown",
      "metadata": {
        "id": "1Ba-VyFwPCiV"
      },
      "source": [
        "Este notebook tem como objetivo resolver o desafio proposto pela Solvimm, que resume em responder algumas perguntas com análise exploratória de dados contidas em datasets com informações de filmes e avaliações de usuários.\n"
      ]
    },
    {
      "cell_type": "markdown",
      "metadata": {
        "id": "7DvlaD2QPLaB"
      },
      "source": [
        "As próximas seções serão dividas em:\n",
        "\n",
        "1.   Importando os datasets, criação dos dataframes, limpeza dos dados. \n",
        "2.   Análise exploratória dos dados e respostas do desafio."
      ]
    },
    {
      "cell_type": "markdown",
      "metadata": {
        "id": "4knHYFfjPZW4"
      },
      "source": [
        "##Importando os datasets, criação dos dataframes, limpeza dos dados."
      ]
    },
    {
      "cell_type": "markdown",
      "metadata": {
        "id": "Ma8xAUqUPc5J"
      },
      "source": [
        "Nesta seção, importamos a biblioteca `pandas` para a exploração dos dados, além de importar os datasets com os dados para se resolver o desafio, transformando eles em dataframes: `df_movies` e `df_customers_rating`.\n",
        "\n",
        "O dataframe com os dados dos filmes contém 4499 linhas e duas colunas, uma variável categórica e a outra numérica.\n",
        "O dataframe com as avaliações dos usuários, contém 24053764 linhas e 4 colunas. Três variáveis numéricas e uma categórica.\n",
        "**Sem valores nulos e/ou valores duplicados. **\n",
        "\n",
        "\n"
      ]
    },
    {
      "cell_type": "code",
      "metadata": {
        "id": "bGV07i28HAC1"
      },
      "source": [
        "import pandas as pd"
      ],
      "execution_count": null,
      "outputs": []
    },
    {
      "cell_type": "code",
      "metadata": {
        "id": "YKyHWo6NHMP2"
      },
      "source": [
        "df_movies = pd.read_csv('/content/movies.csv', sep = ';', names =['Movie_Id', 'movie'])"
      ],
      "execution_count": null,
      "outputs": []
    },
    {
      "cell_type": "code",
      "metadata": {
        "id": "9VNzCOqNf_D6"
      },
      "source": [
        "df_customers_rating = pd.read_csv('/content/customers_rating.csv', sep =';')"
      ],
      "execution_count": null,
      "outputs": []
    },
    {
      "cell_type": "code",
      "metadata": {
        "colab": {
          "base_uri": "https://localhost:8080/"
        },
        "id": "yh8dN98yM5QY",
        "outputId": "26ac8326-7108-4e0b-a378-4fc53781a1d5"
      },
      "source": [
        "df_movies.info()"
      ],
      "execution_count": null,
      "outputs": [
        {
          "output_type": "stream",
          "name": "stdout",
          "text": [
            "<class 'pandas.core.frame.DataFrame'>\n",
            "RangeIndex: 4499 entries, 0 to 4498\n",
            "Data columns (total 2 columns):\n",
            " #   Column    Non-Null Count  Dtype \n",
            "---  ------    --------------  ----- \n",
            " 0   Movie_Id  4499 non-null   int64 \n",
            " 1   movie     4499 non-null   object\n",
            "dtypes: int64(1), object(1)\n",
            "memory usage: 70.4+ KB\n"
          ]
        }
      ]
    },
    {
      "cell_type": "code",
      "metadata": {
        "colab": {
          "base_uri": "https://localhost:8080/"
        },
        "id": "1XVrJjuaHm6M",
        "outputId": "a62c3e67-cecb-472e-e63d-2005600cde36"
      },
      "source": [
        "df_customers_rating.info()"
      ],
      "execution_count": null,
      "outputs": [
        {
          "output_type": "stream",
          "name": "stdout",
          "text": [
            "<class 'pandas.core.frame.DataFrame'>\n",
            "RangeIndex: 24053764 entries, 0 to 24053763\n",
            "Data columns (total 4 columns):\n",
            " #   Column    Dtype  \n",
            "---  ------    -----  \n",
            " 0   Cust_Id   int64  \n",
            " 1   Rating    float64\n",
            " 2   Date      object \n",
            " 3   Movie_Id  int64  \n",
            "dtypes: float64(1), int64(2), object(1)\n",
            "memory usage: 734.1+ MB\n"
          ]
        }
      ]
    },
    {
      "cell_type": "markdown",
      "metadata": {
        "id": "_yA9hQi0t4nH"
      },
      "source": [
        "Com a função `.duplicated()`, nós obtemos a quantidade de valores repetidos dentro do dataframe, se aparecer apenas os nomes das colunas, quer dizer que não há nenhuma linha repitida."
      ]
    },
    {
      "cell_type": "code",
      "metadata": {
        "colab": {
          "base_uri": "https://localhost:8080/",
          "height": 49
        },
        "id": "lZWPznI45OB8",
        "outputId": "a10b8e52-4f5c-4f64-fa31-3ea14e0abca3"
      },
      "source": [
        "df_movies[df_movies.duplicated()]"
      ],
      "execution_count": null,
      "outputs": [
        {
          "output_type": "execute_result",
          "data": {
            "text/html": [
              "<div>\n",
              "<style scoped>\n",
              "    .dataframe tbody tr th:only-of-type {\n",
              "        vertical-align: middle;\n",
              "    }\n",
              "\n",
              "    .dataframe tbody tr th {\n",
              "        vertical-align: top;\n",
              "    }\n",
              "\n",
              "    .dataframe thead th {\n",
              "        text-align: right;\n",
              "    }\n",
              "</style>\n",
              "<table border=\"1\" class=\"dataframe\">\n",
              "  <thead>\n",
              "    <tr style=\"text-align: right;\">\n",
              "      <th></th>\n",
              "      <th>Movie_Id</th>\n",
              "      <th>movie</th>\n",
              "    </tr>\n",
              "  </thead>\n",
              "  <tbody>\n",
              "  </tbody>\n",
              "</table>\n",
              "</div>"
            ],
            "text/plain": [
              "Empty DataFrame\n",
              "Columns: [Movie_Id, movie]\n",
              "Index: []"
            ]
          },
          "metadata": {},
          "execution_count": 6
        }
      ]
    },
    {
      "cell_type": "code",
      "metadata": {
        "colab": {
          "base_uri": "https://localhost:8080/",
          "height": 49
        },
        "id": "fbkgLw63ISeK",
        "outputId": "d818144a-2910-401a-9572-fb5b3403f73c"
      },
      "source": [
        "df_customers_rating[df_customers_rating.duplicated()]"
      ],
      "execution_count": null,
      "outputs": [
        {
          "output_type": "execute_result",
          "data": {
            "text/html": [
              "<div>\n",
              "<style scoped>\n",
              "    .dataframe tbody tr th:only-of-type {\n",
              "        vertical-align: middle;\n",
              "    }\n",
              "\n",
              "    .dataframe tbody tr th {\n",
              "        vertical-align: top;\n",
              "    }\n",
              "\n",
              "    .dataframe thead th {\n",
              "        text-align: right;\n",
              "    }\n",
              "</style>\n",
              "<table border=\"1\" class=\"dataframe\">\n",
              "  <thead>\n",
              "    <tr style=\"text-align: right;\">\n",
              "      <th></th>\n",
              "      <th>Cust_Id</th>\n",
              "      <th>Rating</th>\n",
              "      <th>Date</th>\n",
              "      <th>Movie_Id</th>\n",
              "    </tr>\n",
              "  </thead>\n",
              "  <tbody>\n",
              "  </tbody>\n",
              "</table>\n",
              "</div>"
            ],
            "text/plain": [
              "Empty DataFrame\n",
              "Columns: [Cust_Id, Rating, Date, Movie_Id]\n",
              "Index: []"
            ]
          },
          "metadata": {},
          "execution_count": 7
        }
      ]
    },
    {
      "cell_type": "code",
      "metadata": {
        "colab": {
          "base_uri": "https://localhost:8080/",
          "height": 203
        },
        "id": "1fyun0J3KhzZ",
        "outputId": "6eaa932b-b7d4-40ed-9a12-69f0107cd033"
      },
      "source": [
        "df_movies.head(5)"
      ],
      "execution_count": null,
      "outputs": [
        {
          "output_type": "execute_result",
          "data": {
            "text/html": [
              "<div>\n",
              "<style scoped>\n",
              "    .dataframe tbody tr th:only-of-type {\n",
              "        vertical-align: middle;\n",
              "    }\n",
              "\n",
              "    .dataframe tbody tr th {\n",
              "        vertical-align: top;\n",
              "    }\n",
              "\n",
              "    .dataframe thead th {\n",
              "        text-align: right;\n",
              "    }\n",
              "</style>\n",
              "<table border=\"1\" class=\"dataframe\">\n",
              "  <thead>\n",
              "    <tr style=\"text-align: right;\">\n",
              "      <th></th>\n",
              "      <th>Movie_Id</th>\n",
              "      <th>movie</th>\n",
              "    </tr>\n",
              "  </thead>\n",
              "  <tbody>\n",
              "    <tr>\n",
              "      <th>0</th>\n",
              "      <td>1</td>\n",
              "      <td>(Dinosaur Planet, 2003)</td>\n",
              "    </tr>\n",
              "    <tr>\n",
              "      <th>1</th>\n",
              "      <td>2</td>\n",
              "      <td>(Isle of Man TT 2004 Review, 2004)</td>\n",
              "    </tr>\n",
              "    <tr>\n",
              "      <th>2</th>\n",
              "      <td>3</td>\n",
              "      <td>(Character, 1997)</td>\n",
              "    </tr>\n",
              "    <tr>\n",
              "      <th>3</th>\n",
              "      <td>4</td>\n",
              "      <td>(Paula Abdul's Get Up &amp; Dance, 1994)</td>\n",
              "    </tr>\n",
              "    <tr>\n",
              "      <th>4</th>\n",
              "      <td>5</td>\n",
              "      <td>(The Rise and Fall of ECW, 2004)</td>\n",
              "    </tr>\n",
              "  </tbody>\n",
              "</table>\n",
              "</div>"
            ],
            "text/plain": [
              "   Movie_Id                                 movie\n",
              "0         1               (Dinosaur Planet, 2003)\n",
              "1         2    (Isle of Man TT 2004 Review, 2004)\n",
              "2         3                     (Character, 1997)\n",
              "3         4  (Paula Abdul's Get Up & Dance, 1994)\n",
              "4         5      (The Rise and Fall of ECW, 2004)"
            ]
          },
          "metadata": {},
          "execution_count": 9
        }
      ]
    },
    {
      "cell_type": "code",
      "metadata": {
        "colab": {
          "base_uri": "https://localhost:8080/",
          "height": 203
        },
        "id": "1BMPe_2TNPBZ",
        "outputId": "4402518c-0476-4281-ca5b-aa62683e37bf"
      },
      "source": [
        "df_movies.tail(5)"
      ],
      "execution_count": null,
      "outputs": [
        {
          "output_type": "execute_result",
          "data": {
            "text/html": [
              "<div>\n",
              "<style scoped>\n",
              "    .dataframe tbody tr th:only-of-type {\n",
              "        vertical-align: middle;\n",
              "    }\n",
              "\n",
              "    .dataframe tbody tr th {\n",
              "        vertical-align: top;\n",
              "    }\n",
              "\n",
              "    .dataframe thead th {\n",
              "        text-align: right;\n",
              "    }\n",
              "</style>\n",
              "<table border=\"1\" class=\"dataframe\">\n",
              "  <thead>\n",
              "    <tr style=\"text-align: right;\">\n",
              "      <th></th>\n",
              "      <th>Movie_Id</th>\n",
              "      <th>movie</th>\n",
              "    </tr>\n",
              "  </thead>\n",
              "  <tbody>\n",
              "    <tr>\n",
              "      <th>4494</th>\n",
              "      <td>4495</td>\n",
              "      <td>(Clifford: Happy Birthday Clifford / Puppy Lov...</td>\n",
              "    </tr>\n",
              "    <tr>\n",
              "      <th>4495</th>\n",
              "      <td>4496</td>\n",
              "      <td>(Farewell My Concubine, 1993)</td>\n",
              "    </tr>\n",
              "    <tr>\n",
              "      <th>4496</th>\n",
              "      <td>4497</td>\n",
              "      <td>(Texasville, 1990)</td>\n",
              "    </tr>\n",
              "    <tr>\n",
              "      <th>4497</th>\n",
              "      <td>4498</td>\n",
              "      <td>(Gonin, 2000)</td>\n",
              "    </tr>\n",
              "    <tr>\n",
              "      <th>4498</th>\n",
              "      <td>4499</td>\n",
              "      <td>(In My Skin, 2002)</td>\n",
              "    </tr>\n",
              "  </tbody>\n",
              "</table>\n",
              "</div>"
            ],
            "text/plain": [
              "      Movie_Id                                              movie\n",
              "4494      4495  (Clifford: Happy Birthday Clifford / Puppy Lov...\n",
              "4495      4496                      (Farewell My Concubine, 1993)\n",
              "4496      4497                                 (Texasville, 1990)\n",
              "4497      4498                                      (Gonin, 2000)\n",
              "4498      4499                                 (In My Skin, 2002)"
            ]
          },
          "metadata": {},
          "execution_count": 10
        }
      ]
    },
    {
      "cell_type": "code",
      "metadata": {
        "colab": {
          "base_uri": "https://localhost:8080/",
          "height": 203
        },
        "id": "q0v1cIP4IOc-",
        "outputId": "0f077f73-23d9-4d35-bfc1-c8f4bb8f5250"
      },
      "source": [
        "df_customers_rating.head(5)"
      ],
      "execution_count": null,
      "outputs": [
        {
          "output_type": "execute_result",
          "data": {
            "text/html": [
              "<div>\n",
              "<style scoped>\n",
              "    .dataframe tbody tr th:only-of-type {\n",
              "        vertical-align: middle;\n",
              "    }\n",
              "\n",
              "    .dataframe tbody tr th {\n",
              "        vertical-align: top;\n",
              "    }\n",
              "\n",
              "    .dataframe thead th {\n",
              "        text-align: right;\n",
              "    }\n",
              "</style>\n",
              "<table border=\"1\" class=\"dataframe\">\n",
              "  <thead>\n",
              "    <tr style=\"text-align: right;\">\n",
              "      <th></th>\n",
              "      <th>Cust_Id</th>\n",
              "      <th>Rating</th>\n",
              "      <th>Date</th>\n",
              "      <th>Movie_Id</th>\n",
              "    </tr>\n",
              "  </thead>\n",
              "  <tbody>\n",
              "    <tr>\n",
              "      <th>0</th>\n",
              "      <td>1488844</td>\n",
              "      <td>3.0</td>\n",
              "      <td>2005-09-06</td>\n",
              "      <td>1</td>\n",
              "    </tr>\n",
              "    <tr>\n",
              "      <th>1</th>\n",
              "      <td>822109</td>\n",
              "      <td>5.0</td>\n",
              "      <td>2005-05-13</td>\n",
              "      <td>1</td>\n",
              "    </tr>\n",
              "    <tr>\n",
              "      <th>2</th>\n",
              "      <td>885013</td>\n",
              "      <td>4.0</td>\n",
              "      <td>2005-10-19</td>\n",
              "      <td>1</td>\n",
              "    </tr>\n",
              "    <tr>\n",
              "      <th>3</th>\n",
              "      <td>30878</td>\n",
              "      <td>4.0</td>\n",
              "      <td>2005-12-26</td>\n",
              "      <td>1</td>\n",
              "    </tr>\n",
              "    <tr>\n",
              "      <th>4</th>\n",
              "      <td>823519</td>\n",
              "      <td>3.0</td>\n",
              "      <td>2004-05-03</td>\n",
              "      <td>1</td>\n",
              "    </tr>\n",
              "  </tbody>\n",
              "</table>\n",
              "</div>"
            ],
            "text/plain": [
              "   Cust_Id  Rating        Date  Movie_Id\n",
              "0  1488844     3.0  2005-09-06         1\n",
              "1   822109     5.0  2005-05-13         1\n",
              "2   885013     4.0  2005-10-19         1\n",
              "3    30878     4.0  2005-12-26         1\n",
              "4   823519     3.0  2004-05-03         1"
            ]
          },
          "metadata": {},
          "execution_count": 8
        }
      ]
    },
    {
      "cell_type": "markdown",
      "metadata": {
        "id": "V0T87EOjXbfS"
      },
      "source": [
        "Percebemos que na coluna 'movie' contém o nome do filme e o ano de lançamento; precisamos separar ambos para que possamos manipulá-los. "
      ]
    },
    {
      "cell_type": "code",
      "metadata": {
        "id": "jmOpSXxWQECG"
      },
      "source": [
        "df_movies['Ano'] = df_movies['movie'].apply(lambda x: x.split(',')[1].strip().replace(')',''))"
      ],
      "execution_count": null,
      "outputs": []
    },
    {
      "cell_type": "code",
      "metadata": {
        "colab": {
          "base_uri": "https://localhost:8080/",
          "height": 203
        },
        "id": "Va8Z6eU6R_bE",
        "outputId": "56a66dad-d7d0-4c13-e5db-276bc143850c"
      },
      "source": [
        "df_movies.head()"
      ],
      "execution_count": null,
      "outputs": [
        {
          "output_type": "execute_result",
          "data": {
            "text/html": [
              "<div>\n",
              "<style scoped>\n",
              "    .dataframe tbody tr th:only-of-type {\n",
              "        vertical-align: middle;\n",
              "    }\n",
              "\n",
              "    .dataframe tbody tr th {\n",
              "        vertical-align: top;\n",
              "    }\n",
              "\n",
              "    .dataframe thead th {\n",
              "        text-align: right;\n",
              "    }\n",
              "</style>\n",
              "<table border=\"1\" class=\"dataframe\">\n",
              "  <thead>\n",
              "    <tr style=\"text-align: right;\">\n",
              "      <th></th>\n",
              "      <th>Movie_Id</th>\n",
              "      <th>movie</th>\n",
              "      <th>Ano</th>\n",
              "    </tr>\n",
              "  </thead>\n",
              "  <tbody>\n",
              "    <tr>\n",
              "      <th>0</th>\n",
              "      <td>1</td>\n",
              "      <td>(Dinosaur Planet, 2003)</td>\n",
              "      <td>2003</td>\n",
              "    </tr>\n",
              "    <tr>\n",
              "      <th>1</th>\n",
              "      <td>2</td>\n",
              "      <td>(Isle of Man TT 2004 Review, 2004)</td>\n",
              "      <td>2004</td>\n",
              "    </tr>\n",
              "    <tr>\n",
              "      <th>2</th>\n",
              "      <td>3</td>\n",
              "      <td>(Character, 1997)</td>\n",
              "      <td>1997</td>\n",
              "    </tr>\n",
              "    <tr>\n",
              "      <th>3</th>\n",
              "      <td>4</td>\n",
              "      <td>(Paula Abdul's Get Up &amp; Dance, 1994)</td>\n",
              "      <td>1994</td>\n",
              "    </tr>\n",
              "    <tr>\n",
              "      <th>4</th>\n",
              "      <td>5</td>\n",
              "      <td>(The Rise and Fall of ECW, 2004)</td>\n",
              "      <td>2004</td>\n",
              "    </tr>\n",
              "  </tbody>\n",
              "</table>\n",
              "</div>"
            ],
            "text/plain": [
              "   Movie_Id                                 movie   Ano\n",
              "0         1               (Dinosaur Planet, 2003)  2003\n",
              "1         2    (Isle of Man TT 2004 Review, 2004)  2004\n",
              "2         3                     (Character, 1997)  1997\n",
              "3         4  (Paula Abdul's Get Up & Dance, 1994)  1994\n",
              "4         5      (The Rise and Fall of ECW, 2004)  2004"
            ]
          },
          "metadata": {},
          "execution_count": 12
        }
      ]
    },
    {
      "cell_type": "markdown",
      "metadata": {
        "id": "o9eiKrZvYOhP"
      },
      "source": [
        "O mesmo processo com o ano do filme, foi realizado com o nome, separamos também para ele ter sua própria coluna categórica, facilitando assim a manipulação para futuras consultas."
      ]
    },
    {
      "cell_type": "code",
      "metadata": {
        "id": "3LdOvrVQSBTa"
      },
      "source": [
        "df_movies['Nome_Filme'] = df_movies['movie'].apply(lambda x: x.split(',')[0].replace('(',''))"
      ],
      "execution_count": null,
      "outputs": []
    },
    {
      "cell_type": "code",
      "metadata": {
        "id": "VoGTb1vFKf4v",
        "colab": {
          "base_uri": "https://localhost:8080/",
          "height": 203
        },
        "outputId": "ec3af24e-9675-41f8-d256-7c1a33b05cf3"
      },
      "source": [
        "df_movies.head()"
      ],
      "execution_count": null,
      "outputs": [
        {
          "output_type": "execute_result",
          "data": {
            "text/html": [
              "<div>\n",
              "<style scoped>\n",
              "    .dataframe tbody tr th:only-of-type {\n",
              "        vertical-align: middle;\n",
              "    }\n",
              "\n",
              "    .dataframe tbody tr th {\n",
              "        vertical-align: top;\n",
              "    }\n",
              "\n",
              "    .dataframe thead th {\n",
              "        text-align: right;\n",
              "    }\n",
              "</style>\n",
              "<table border=\"1\" class=\"dataframe\">\n",
              "  <thead>\n",
              "    <tr style=\"text-align: right;\">\n",
              "      <th></th>\n",
              "      <th>Movie_Id</th>\n",
              "      <th>movie</th>\n",
              "      <th>Ano</th>\n",
              "      <th>Nome_Filme</th>\n",
              "    </tr>\n",
              "  </thead>\n",
              "  <tbody>\n",
              "    <tr>\n",
              "      <th>0</th>\n",
              "      <td>1</td>\n",
              "      <td>(Dinosaur Planet, 2003)</td>\n",
              "      <td>2003</td>\n",
              "      <td>Dinosaur Planet</td>\n",
              "    </tr>\n",
              "    <tr>\n",
              "      <th>1</th>\n",
              "      <td>2</td>\n",
              "      <td>(Isle of Man TT 2004 Review, 2004)</td>\n",
              "      <td>2004</td>\n",
              "      <td>Isle of Man TT 2004 Review</td>\n",
              "    </tr>\n",
              "    <tr>\n",
              "      <th>2</th>\n",
              "      <td>3</td>\n",
              "      <td>(Character, 1997)</td>\n",
              "      <td>1997</td>\n",
              "      <td>Character</td>\n",
              "    </tr>\n",
              "    <tr>\n",
              "      <th>3</th>\n",
              "      <td>4</td>\n",
              "      <td>(Paula Abdul's Get Up &amp; Dance, 1994)</td>\n",
              "      <td>1994</td>\n",
              "      <td>Paula Abdul's Get Up &amp; Dance</td>\n",
              "    </tr>\n",
              "    <tr>\n",
              "      <th>4</th>\n",
              "      <td>5</td>\n",
              "      <td>(The Rise and Fall of ECW, 2004)</td>\n",
              "      <td>2004</td>\n",
              "      <td>The Rise and Fall of ECW</td>\n",
              "    </tr>\n",
              "  </tbody>\n",
              "</table>\n",
              "</div>"
            ],
            "text/plain": [
              "   Movie_Id  ...                    Nome_Filme\n",
              "0         1  ...               Dinosaur Planet\n",
              "1         2  ...    Isle of Man TT 2004 Review\n",
              "2         3  ...                     Character\n",
              "3         4  ...  Paula Abdul's Get Up & Dance\n",
              "4         5  ...      The Rise and Fall of ECW\n",
              "\n",
              "[5 rows x 4 columns]"
            ]
          },
          "metadata": {},
          "execution_count": 14
        }
      ]
    },
    {
      "cell_type": "markdown",
      "metadata": {
        "id": "vGU8CSpwZhe1"
      },
      "source": [
        "Criamos um novo dataframe com as colunas separadas e realizamos um `.drop` para tirarmos a coluna original que continha ambas informações juntas. Isso é feito apenas para que não alteremos o conteúdo do dataframe original, pois podemos manipular esse novo dataframe sem nos preocupar com danificar os dados originais."
      ]
    },
    {
      "cell_type": "code",
      "metadata": {
        "id": "KawLUndePNDz"
      },
      "source": [
        "df_movies_filter = df_movies.drop(columns='movie')"
      ],
      "execution_count": null,
      "outputs": []
    },
    {
      "cell_type": "code",
      "metadata": {
        "colab": {
          "base_uri": "https://localhost:8080/",
          "height": 203
        },
        "id": "Sfr0J6vN4nr1",
        "outputId": "a86ffd8b-6eef-468c-b8ef-3aca62178464"
      },
      "source": [
        "df_movies_filter.head()"
      ],
      "execution_count": null,
      "outputs": [
        {
          "output_type": "execute_result",
          "data": {
            "text/html": [
              "<div>\n",
              "<style scoped>\n",
              "    .dataframe tbody tr th:only-of-type {\n",
              "        vertical-align: middle;\n",
              "    }\n",
              "\n",
              "    .dataframe tbody tr th {\n",
              "        vertical-align: top;\n",
              "    }\n",
              "\n",
              "    .dataframe thead th {\n",
              "        text-align: right;\n",
              "    }\n",
              "</style>\n",
              "<table border=\"1\" class=\"dataframe\">\n",
              "  <thead>\n",
              "    <tr style=\"text-align: right;\">\n",
              "      <th></th>\n",
              "      <th>Movie_Id</th>\n",
              "      <th>Ano</th>\n",
              "      <th>Nome_Filme</th>\n",
              "    </tr>\n",
              "  </thead>\n",
              "  <tbody>\n",
              "    <tr>\n",
              "      <th>0</th>\n",
              "      <td>1</td>\n",
              "      <td>2003</td>\n",
              "      <td>Dinosaur Planet</td>\n",
              "    </tr>\n",
              "    <tr>\n",
              "      <th>1</th>\n",
              "      <td>2</td>\n",
              "      <td>2004</td>\n",
              "      <td>Isle of Man TT 2004 Review</td>\n",
              "    </tr>\n",
              "    <tr>\n",
              "      <th>2</th>\n",
              "      <td>3</td>\n",
              "      <td>1997</td>\n",
              "      <td>Character</td>\n",
              "    </tr>\n",
              "    <tr>\n",
              "      <th>3</th>\n",
              "      <td>4</td>\n",
              "      <td>1994</td>\n",
              "      <td>Paula Abdul's Get Up &amp; Dance</td>\n",
              "    </tr>\n",
              "    <tr>\n",
              "      <th>4</th>\n",
              "      <td>5</td>\n",
              "      <td>2004</td>\n",
              "      <td>The Rise and Fall of ECW</td>\n",
              "    </tr>\n",
              "  </tbody>\n",
              "</table>\n",
              "</div>"
            ],
            "text/plain": [
              "   Movie_Id   Ano                    Nome_Filme\n",
              "0         1  2003               Dinosaur Planet\n",
              "1         2  2004    Isle of Man TT 2004 Review\n",
              "2         3  1997                     Character\n",
              "3         4  1994  Paula Abdul's Get Up & Dance\n",
              "4         5  2004      The Rise and Fall of ECW"
            ]
          },
          "metadata": {},
          "execution_count": 16
        }
      ]
    },
    {
      "cell_type": "code",
      "metadata": {
        "colab": {
          "base_uri": "https://localhost:8080/"
        },
        "id": "_EKPedl-9eIo",
        "outputId": "692a4693-c184-4c9b-eb01-d12c3666b728"
      },
      "source": [
        "df_movies_filter.info()"
      ],
      "execution_count": null,
      "outputs": [
        {
          "output_type": "stream",
          "name": "stdout",
          "text": [
            "<class 'pandas.core.frame.DataFrame'>\n",
            "RangeIndex: 4499 entries, 0 to 4498\n",
            "Data columns (total 3 columns):\n",
            " #   Column      Non-Null Count  Dtype \n",
            "---  ------      --------------  ----- \n",
            " 0   Movie_Id    4499 non-null   int64 \n",
            " 1   Ano         4499 non-null   object\n",
            " 2   Nome_Filme  4499 non-null   object\n",
            "dtypes: int64(1), object(2)\n",
            "memory usage: 105.6+ KB\n"
          ]
        }
      ]
    },
    {
      "cell_type": "markdown",
      "metadata": {
        "id": "wYLpNserkEug"
      },
      "source": [
        "Join realizado utilizando a coluna 'Movie_ID' como chave de referência, realizamos um inner join, e desse join se origina o 'df_total' que seria um dataframe com todas as colunas de ambos datasets juntas."
      ]
    },
    {
      "cell_type": "code",
      "metadata": {
        "id": "McCqgoQhNn8y"
      },
      "source": [
        "df_movies_filter.index = df_movies_filter['Movie_Id']\n",
        "df_movies_filter.drop(columns='Movie_Id', inplace=True)"
      ],
      "execution_count": null,
      "outputs": []
    },
    {
      "cell_type": "code",
      "metadata": {
        "id": "FlMp6cfTJQbo"
      },
      "source": [
        "df_total = df_customers_rating.join(df_movies_filter, on = 'Movie_Id', how = 'inner')"
      ],
      "execution_count": null,
      "outputs": []
    },
    {
      "cell_type": "code",
      "metadata": {
        "colab": {
          "base_uri": "https://localhost:8080/",
          "height": 203
        },
        "id": "mS0Ex1yQLvJY",
        "outputId": "952b8a0b-8437-466c-ccaa-5985ec0d5b5f"
      },
      "source": [
        "df_total.head(5)"
      ],
      "execution_count": null,
      "outputs": [
        {
          "output_type": "execute_result",
          "data": {
            "text/html": [
              "<div>\n",
              "<style scoped>\n",
              "    .dataframe tbody tr th:only-of-type {\n",
              "        vertical-align: middle;\n",
              "    }\n",
              "\n",
              "    .dataframe tbody tr th {\n",
              "        vertical-align: top;\n",
              "    }\n",
              "\n",
              "    .dataframe thead th {\n",
              "        text-align: right;\n",
              "    }\n",
              "</style>\n",
              "<table border=\"1\" class=\"dataframe\">\n",
              "  <thead>\n",
              "    <tr style=\"text-align: right;\">\n",
              "      <th></th>\n",
              "      <th>Cust_Id</th>\n",
              "      <th>Rating</th>\n",
              "      <th>Date</th>\n",
              "      <th>Movie_Id</th>\n",
              "      <th>Ano</th>\n",
              "      <th>Nome_Filme</th>\n",
              "    </tr>\n",
              "  </thead>\n",
              "  <tbody>\n",
              "    <tr>\n",
              "      <th>0</th>\n",
              "      <td>1488844</td>\n",
              "      <td>3.0</td>\n",
              "      <td>2005-09-06</td>\n",
              "      <td>1</td>\n",
              "      <td>2003</td>\n",
              "      <td>Dinosaur Planet</td>\n",
              "    </tr>\n",
              "    <tr>\n",
              "      <th>1</th>\n",
              "      <td>822109</td>\n",
              "      <td>5.0</td>\n",
              "      <td>2005-05-13</td>\n",
              "      <td>1</td>\n",
              "      <td>2003</td>\n",
              "      <td>Dinosaur Planet</td>\n",
              "    </tr>\n",
              "    <tr>\n",
              "      <th>2</th>\n",
              "      <td>885013</td>\n",
              "      <td>4.0</td>\n",
              "      <td>2005-10-19</td>\n",
              "      <td>1</td>\n",
              "      <td>2003</td>\n",
              "      <td>Dinosaur Planet</td>\n",
              "    </tr>\n",
              "    <tr>\n",
              "      <th>3</th>\n",
              "      <td>30878</td>\n",
              "      <td>4.0</td>\n",
              "      <td>2005-12-26</td>\n",
              "      <td>1</td>\n",
              "      <td>2003</td>\n",
              "      <td>Dinosaur Planet</td>\n",
              "    </tr>\n",
              "    <tr>\n",
              "      <th>4</th>\n",
              "      <td>823519</td>\n",
              "      <td>3.0</td>\n",
              "      <td>2004-05-03</td>\n",
              "      <td>1</td>\n",
              "      <td>2003</td>\n",
              "      <td>Dinosaur Planet</td>\n",
              "    </tr>\n",
              "  </tbody>\n",
              "</table>\n",
              "</div>"
            ],
            "text/plain": [
              "   Cust_Id  Rating        Date  Movie_Id   Ano       Nome_Filme\n",
              "0  1488844     3.0  2005-09-06         1  2003  Dinosaur Planet\n",
              "1   822109     5.0  2005-05-13         1  2003  Dinosaur Planet\n",
              "2   885013     4.0  2005-10-19         1  2003  Dinosaur Planet\n",
              "3    30878     4.0  2005-12-26         1  2003  Dinosaur Planet\n",
              "4   823519     3.0  2004-05-03         1  2003  Dinosaur Planet"
            ]
          },
          "metadata": {},
          "execution_count": 20
        }
      ]
    },
    {
      "cell_type": "markdown",
      "metadata": {
        "id": "gO3AegQXkxr9"
      },
      "source": [
        "Tranformamos a coluna 'Date' `.to_datetime` para que possamos analisá-la como data e variável contínua. "
      ]
    },
    {
      "cell_type": "code",
      "metadata": {
        "id": "u1a4VM69Otw9"
      },
      "source": [
        "df_total['Date']= pd.to_datetime(df_total['Date'])"
      ],
      "execution_count": null,
      "outputs": []
    },
    {
      "cell_type": "code",
      "metadata": {
        "colab": {
          "base_uri": "https://localhost:8080/"
        },
        "id": "138HjcLbO6tq",
        "outputId": "425981a8-aea5-464a-e1b6-1cbde5bc46c7"
      },
      "source": [
        "df_total.info()"
      ],
      "execution_count": null,
      "outputs": [
        {
          "output_type": "stream",
          "name": "stdout",
          "text": [
            "<class 'pandas.core.frame.DataFrame'>\n",
            "Int64Index: 24053764 entries, 0 to 24053763\n",
            "Data columns (total 6 columns):\n",
            " #   Column      Dtype         \n",
            "---  ------      -----         \n",
            " 0   Cust_Id     int64         \n",
            " 1   Rating      float64       \n",
            " 2   Date        datetime64[ns]\n",
            " 3   Movie_Id    int64         \n",
            " 4   Ano         object        \n",
            " 5   Nome_Filme  object        \n",
            "dtypes: datetime64[ns](1), float64(1), int64(2), object(2)\n",
            "memory usage: 1.3+ GB\n"
          ]
        }
      ]
    },
    {
      "cell_type": "markdown",
      "metadata": {
        "id": "r_2EmTwmpks9"
      },
      "source": [
        "##Análise exploratória dos dados e respostas do desafio."
      ]
    },
    {
      "cell_type": "markdown",
      "metadata": {
        "id": "59CaU-Bgrh6g"
      },
      "source": [
        "Após feito a limpeza, e preparação dos dataframes, podemos começar a realizar análises exploratórias com esses dados e responder as perguntas do desafio."
      ]
    },
    {
      "cell_type": "markdown",
      "metadata": {
        "id": "S24corrCq8G1"
      },
      "source": [
        "**1) Quantos filmes estão disponíveis no dataset?**\n",
        "\n",
        "\n",
        "\n",
        "\n",
        "\n",
        "\n",
        "\n",
        "\n"
      ]
    },
    {
      "cell_type": "markdown",
      "metadata": {
        "id": "q4Uulwl9tOqs"
      },
      "source": [
        "Sabemos que não temos valores nulos nem duplicados nos dataframes, logo, o total de linhas no dataframe que contém o dataset de movies será o total de filmes."
      ]
    },
    {
      "cell_type": "code",
      "metadata": {
        "id": "3hTHjioFsA3S",
        "colab": {
          "base_uri": "https://localhost:8080/",
          "height": 203
        },
        "outputId": "06d24f37-6900-4eb5-948c-f135d29cbdf4"
      },
      "source": [
        "df_movies.tail(5)"
      ],
      "execution_count": null,
      "outputs": [
        {
          "output_type": "execute_result",
          "data": {
            "text/html": [
              "<div>\n",
              "<style scoped>\n",
              "    .dataframe tbody tr th:only-of-type {\n",
              "        vertical-align: middle;\n",
              "    }\n",
              "\n",
              "    .dataframe tbody tr th {\n",
              "        vertical-align: top;\n",
              "    }\n",
              "\n",
              "    .dataframe thead th {\n",
              "        text-align: right;\n",
              "    }\n",
              "</style>\n",
              "<table border=\"1\" class=\"dataframe\">\n",
              "  <thead>\n",
              "    <tr style=\"text-align: right;\">\n",
              "      <th></th>\n",
              "      <th>Movie_Id</th>\n",
              "      <th>movie</th>\n",
              "      <th>Ano</th>\n",
              "      <th>Nome_Filme</th>\n",
              "    </tr>\n",
              "  </thead>\n",
              "  <tbody>\n",
              "    <tr>\n",
              "      <th>4494</th>\n",
              "      <td>4495</td>\n",
              "      <td>(Clifford: Happy Birthday Clifford / Puppy Lov...</td>\n",
              "      <td>2002</td>\n",
              "      <td>Clifford: Happy Birthday Clifford / Puppy Love</td>\n",
              "    </tr>\n",
              "    <tr>\n",
              "      <th>4495</th>\n",
              "      <td>4496</td>\n",
              "      <td>(Farewell My Concubine, 1993)</td>\n",
              "      <td>1993</td>\n",
              "      <td>Farewell My Concubine</td>\n",
              "    </tr>\n",
              "    <tr>\n",
              "      <th>4496</th>\n",
              "      <td>4497</td>\n",
              "      <td>(Texasville, 1990)</td>\n",
              "      <td>1990</td>\n",
              "      <td>Texasville</td>\n",
              "    </tr>\n",
              "    <tr>\n",
              "      <th>4497</th>\n",
              "      <td>4498</td>\n",
              "      <td>(Gonin, 2000)</td>\n",
              "      <td>2000</td>\n",
              "      <td>Gonin</td>\n",
              "    </tr>\n",
              "    <tr>\n",
              "      <th>4498</th>\n",
              "      <td>4499</td>\n",
              "      <td>(In My Skin, 2002)</td>\n",
              "      <td>2002</td>\n",
              "      <td>In My Skin</td>\n",
              "    </tr>\n",
              "  </tbody>\n",
              "</table>\n",
              "</div>"
            ],
            "text/plain": [
              "      Movie_Id  ...                                      Nome_Filme\n",
              "4494      4495  ...  Clifford: Happy Birthday Clifford / Puppy Love\n",
              "4495      4496  ...                           Farewell My Concubine\n",
              "4496      4497  ...                                      Texasville\n",
              "4497      4498  ...                                           Gonin\n",
              "4498      4499  ...                                      In My Skin\n",
              "\n",
              "[5 rows x 4 columns]"
            ]
          },
          "metadata": {},
          "execution_count": 23
        }
      ]
    },
    {
      "cell_type": "markdown",
      "metadata": {
        "id": "SInPz3-SthG9"
      },
      "source": [
        "**4499 Filmes estão disponíveis no dataset** "
      ]
    },
    {
      "cell_type": "markdown",
      "metadata": {
        "id": "h7f8KcFusCXC"
      },
      "source": [
        "**2) Qual é o nome dos 5 filmes com melhor média de avaliação?**"
      ]
    },
    {
      "cell_type": "markdown",
      "metadata": {
        "id": "rZXoi-nBus9x"
      },
      "source": [
        "Agrupamos por nome de filme, a média de das cinco maiores avaliações dos filmes encontrados no dataset. "
      ]
    },
    {
      "cell_type": "code",
      "metadata": {
        "id": "qOIM_3UbLBiR"
      },
      "source": [
        "df_total.groupby(by='Nome_Filme')['Rating'].mean().sort_values(ascending=False).head(5)"
      ],
      "execution_count": null,
      "outputs": []
    },
    {
      "cell_type": "markdown",
      "metadata": {
        "id": "3dFpGgDuu7Ek"
      },
      "source": [
        "Filmes | Notas\n",
        "------ | ------\n",
        "**Lost: Season 1** | **4.670989**\n",
        "**Ghost in the Shell: Stand Alone Complex: 2nd Gig** | **4.586364**\n",
        "**The Simpsons: Season 6** | **4.581296**\n",
        "**Inu-Yasha** | **4.554434**\n",
        "**Lord of the Rings: The Return of the King: Extended Edition: Bonus Material** | **4.552000**\n",
        "\n",
        "\n",
        "\n"
      ]
    },
    {
      "cell_type": "markdown",
      "metadata": {
        "id": "46Wqa0UNsXez"
      },
      "source": [
        "**3) Quais os 5 anos com menos lançamentos de filmes?**"
      ]
    },
    {
      "cell_type": "markdown",
      "metadata": {
        "id": "PmGnvWfHvcyx"
      },
      "source": [
        "Aqui, podemos pegar o dataframe 'df_movies_filter', que contém os anos, nomes do filme e, utilizar da função de agrupamento `.groupby` pelo 'Ano', a quantidade de filmes lançados em seu respectivo ano. "
      ]
    },
    {
      "cell_type": "code",
      "metadata": {
        "id": "9w5izwZM-NBa"
      },
      "source": [
        "df_movies_filter.groupby(by='Ano')['Nome_Filme'].count().sort_values(ascending = True).head(5)"
      ],
      "execution_count": null,
      "outputs": []
    },
    {
      "cell_type": "markdown",
      "metadata": {
        "id": "sKPLZEbyyTBj"
      },
      "source": [
        "Ano | Quantidade de filmes\n",
        "------ | ------\n",
        "**1915** | **1**\n",
        "**1917** | **1**\n",
        "**1922** | **1**\n",
        "**1926** | **1**\n",
        "**1916** | **2**\n",
        "\n",
        "\n",
        "\n",
        "\n"
      ]
    },
    {
      "cell_type": "markdown",
      "metadata": {
        "id": "HgRLRJB1sego"
      },
      "source": [
        "**4) Quantos filmes que possuem avaliação maior ou igual a 4.7, considerando apenas os\n",
        "filmes avaliados na última data de avaliação do dataset?**"
      ]
    },
    {
      "cell_type": "markdown",
      "metadata": {
        "id": "UrKsFFmGsp9e"
      },
      "source": [
        "Para responder essa pergunta, precisamos criar dataframes que recebem as datas máximas contidas no dataset, ou seja, as últimas datas de avaliações; realizar um agrupamento, onde se quer encontrar a média das avaliações por nome de filme, e desse agrupamento, colocamos um operador matemático que tem como efeito, filtrar apenas os filmes que foram avaliados com nota maiore ou igual a 4.7."
      ]
    },
    {
      "cell_type": "code",
      "metadata": {
        "id": "RODYS3FdPFct"
      },
      "source": [
        "avaliacao_ultima_data = df_total[df_total['Date'] == df_total['Date'].unique().max()]"
      ],
      "execution_count": null,
      "outputs": []
    },
    {
      "cell_type": "code",
      "metadata": {
        "id": "bHoFI751Psn-"
      },
      "source": [
        "media_avaliacao = avaliacao_ultima_data.groupby(by='Nome_Filme')['Rating'].mean().sort_values(ascending=True).reset_index()"
      ],
      "execution_count": null,
      "outputs": []
    },
    {
      "cell_type": "code",
      "metadata": {
        "id": "AOUlr_vnQ33M"
      },
      "source": [
        "media_avaliacao[media_avaliacao['Rating'] >= 4.7]['Nome_Filme'].count()"
      ],
      "execution_count": null,
      "outputs": []
    },
    {
      "cell_type": "markdown",
      "metadata": {
        "id": "TB2Q51lSxS-0"
      },
      "source": [
        " **192 Filmes**"
      ]
    },
    {
      "cell_type": "markdown",
      "metadata": {
        "id": "W2uhve4WwCHW"
      },
      "source": [
        "**5) Dos filmes encontrados na questão anterior, quais são os 10 filmes com as piores notas e\n",
        "quais as notas?**"
      ]
    },
    {
      "cell_type": "markdown",
      "metadata": {
        "id": "s9nmefiLxgFP"
      },
      "source": [
        "Com o dataframe já criado com as datas máximas, podemos apenas agrupar pelo nome do filme, as médias, em ordem crescente dos 10 primeiros filmes."
      ]
    },
    {
      "cell_type": "code",
      "metadata": {
        "id": "JFtu_T-sR0M4"
      },
      "source": [
        "avaliacao_ultima_data.groupby(by='Nome_Filme')['Rating'].mean().sort_values(ascending = True).head(10)"
      ],
      "execution_count": null,
      "outputs": []
    },
    {
      "cell_type": "markdown",
      "metadata": {
        "id": "bZXVyWHKyI6u"
      },
      "source": [
        "Filmes | Notas\n",
        "------ | ------\n",
        "**The Muse** | **1.0**\n",
        "**Commanding Heights: The Battle for the World Economy** | **1.0**\n",
        "**Midsomer Murders: Ring Out Your Dead** | **1.0**\n",
        "**Grand Theft Parsons** | **1.0**\n",
        "**Convict 762** | **1.0**\n",
        "**Cop and a Half** | **1.0**\n",
        "**I love Lucy: Season 2** | **1.0**\n",
        "**Angel Sanctuary** | **1.0**\n",
        "**The Closet** | **1.0**\n",
        "**Slam** | **1.0**\n",
        "\n",
        "\n",
        "\n"
      ]
    },
    {
      "cell_type": "markdown",
      "metadata": {
        "id": "2vUUZ3j22CjY"
      },
      "source": [
        "**6) Quais os id's dos 5 customer que mais avaliaram filmes e quantas avaliações cada um\n",
        "fez?**"
      ]
    },
    {
      "cell_type": "markdown",
      "metadata": {
        "id": "__8170sS20PY"
      },
      "source": [
        "Para responder essa pergunta, nós agrupamos pelo ID dos usuários, e pedimos a quantidade, de forma crescente, das avaliações ('Ratings') realizadas pelos usuários."
      ]
    },
    {
      "cell_type": "code",
      "metadata": {
        "id": "6DHW-VkDTtQV"
      },
      "source": [
        "df_total.groupby(by='Cust_Id')['Rating'].count().sort_values(ascending=False).head(5)"
      ],
      "execution_count": null,
      "outputs": []
    },
    {
      "cell_type": "markdown",
      "metadata": {
        "id": "fAPVMeR92auC"
      },
      "source": [
        "ID dos usuários | Quantidade de avaliações\n",
        "------ | ------\n",
        "**305344** | **4467**\n",
        "**387418** | **4422**\n",
        "**2439493** | **4195**\n",
        "**1664010** | **4019**\n",
        "**2118461** | **3769**\n"
      ]
    },
    {
      "cell_type": "markdown",
      "metadata": {
        "id": "9iEPfQbv4oWk"
      },
      "source": [
        "###Muito Obrigado!"
      ]
    }
  ]
}