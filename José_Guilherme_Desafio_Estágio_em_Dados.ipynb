{
  "nbformat": 4,
  "nbformat_minor": 0,
  "metadata": {
    "colab": {
      "name": "José_Guilherme_Desafio_Estágio_em_Dados.ipynb",
      "provenance": [],
      "collapsed_sections": [],
      "include_colab_link": true
    },
    "kernelspec": {
      "name": "python3",
      "display_name": "Python 3"
    },
    "language_info": {
      "name": "python"
    }
  },
  "cells": [
    {
      "cell_type": "markdown",
      "metadata": {
        "id": "view-in-github",
        "colab_type": "text"
      },
      "source": [
        "<a href=\"https://colab.research.google.com/github/GuilhermeDumam/Desafio_Estagio_Solvimm/blob/Master/Jos%C3%A9_Guilherme_Desafio_Est%C3%A1gio_em_Dados.ipynb\" target=\"_parent\"><img src=\"https://colab.research.google.com/assets/colab-badge.svg\" alt=\"Open In Colab\"/></a>"
      ]
    },
    {
      "cell_type": "code",
      "metadata": {
        "id": "bGV07i28HAC1"
      },
      "source": [
        "#importamos a biblioteca pandas e a chamaremos no notebook de 'pd'\n",
        "import pandas as pd"
      ],
      "execution_count": 1,
      "outputs": []
    },
    {
      "cell_type": "code",
      "metadata": {
        "id": "YKyHWo6NHMP2"
      },
      "source": [
        "#criamos um data frame com os dados do movies.csv, utilizaremos o separador ponto vírgula e colocamos nomes nas colunas.\n",
        "df_movies = pd.read_csv('/content/movies.csv', sep = ';', names =['Movie_Id', 'movie'])"
      ],
      "execution_count": 16,
      "outputs": []
    },
    {
      "cell_type": "code",
      "metadata": {
        "id": "9VNzCOqNf_D6"
      },
      "source": [
        "#criamos um data frame com os dados de avaliação dos clientes desses filmes, utilizamos o separador, também como ponto e vírgula.\n",
        "#Não houve a necessidade de criarmos colunas, pois o dataset já veio com suas próprias colunas. \n",
        "df_customers_rating = pd.read_csv('/content/customers_rating.csv', sep =';')"
      ],
      "execution_count": 17,
      "outputs": []
    },
    {
      "cell_type": "code",
      "metadata": {
        "colab": {
          "base_uri": "https://localhost:8080/"
        },
        "id": "yh8dN98yM5QY",
        "outputId": "9cc5980e-be08-443b-eacc-6ab1bb608b97"
      },
      "source": [
        "#Chamamos a função 'info()' com o objetivo de nos mostrar informações sobre o dataframe, como quantidades de valores nulos, tipo dos dados, colunas, tamanho de uso da memória\n",
        "#Aqui respondemos a primeira pergunta '1.1' = a quantidade de filmes é de 4499.\n",
        "df_movies.info()"
      ],
      "execution_count": 18,
      "outputs": [
        {
          "output_type": "stream",
          "name": "stdout",
          "text": [
            "<class 'pandas.core.frame.DataFrame'>\n",
            "RangeIndex: 4499 entries, 0 to 4498\n",
            "Data columns (total 2 columns):\n",
            " #   Column    Non-Null Count  Dtype \n",
            "---  ------    --------------  ----- \n",
            " 0   Movie_Id  4499 non-null   int64 \n",
            " 1   movie     4499 non-null   object\n",
            "dtypes: int64(1), object(1)\n",
            "memory usage: 70.4+ KB\n"
          ]
        }
      ]
    },
    {
      "cell_type": "code",
      "metadata": {
        "colab": {
          "base_uri": "https://localhost:8080/"
        },
        "id": "1XVrJjuaHm6M",
        "outputId": "2ef0409c-7d4c-4e98-a310-3e82987da3a0"
      },
      "source": [
        "#Após o carregamento do dataset de avaliações (demora um pouco, pois é grande), usamos a função info() para sabermos como está o formato do dataset.\n",
        "df_customers_rating.info()"
      ],
      "execution_count": 19,
      "outputs": [
        {
          "output_type": "stream",
          "name": "stdout",
          "text": [
            "<class 'pandas.core.frame.DataFrame'>\n",
            "RangeIndex: 24053764 entries, 0 to 24053763\n",
            "Data columns (total 4 columns):\n",
            " #   Column    Dtype  \n",
            "---  ------    -----  \n",
            " 0   Cust_Id   int64  \n",
            " 1   Rating    float64\n",
            " 2   Date      object \n",
            " 3   Movie_Id  int64  \n",
            "dtypes: float64(1), int64(2), object(1)\n",
            "memory usage: 734.1+ MB\n"
          ]
        }
      ]
    },
    {
      "cell_type": "code",
      "metadata": {
        "colab": {
          "base_uri": "https://localhost:8080/",
          "height": 203
        },
        "id": "q0v1cIP4IOc-",
        "outputId": "e795387d-3d2a-4eb3-b960-f76c24b4db76"
      },
      "source": [
        "df_customers_rating.head(5)"
      ],
      "execution_count": 20,
      "outputs": [
        {
          "output_type": "execute_result",
          "data": {
            "text/html": [
              "<div>\n",
              "<style scoped>\n",
              "    .dataframe tbody tr th:only-of-type {\n",
              "        vertical-align: middle;\n",
              "    }\n",
              "\n",
              "    .dataframe tbody tr th {\n",
              "        vertical-align: top;\n",
              "    }\n",
              "\n",
              "    .dataframe thead th {\n",
              "        text-align: right;\n",
              "    }\n",
              "</style>\n",
              "<table border=\"1\" class=\"dataframe\">\n",
              "  <thead>\n",
              "    <tr style=\"text-align: right;\">\n",
              "      <th></th>\n",
              "      <th>Cust_Id</th>\n",
              "      <th>Rating</th>\n",
              "      <th>Date</th>\n",
              "      <th>Movie_Id</th>\n",
              "    </tr>\n",
              "  </thead>\n",
              "  <tbody>\n",
              "    <tr>\n",
              "      <th>0</th>\n",
              "      <td>1488844</td>\n",
              "      <td>3.0</td>\n",
              "      <td>2005-09-06</td>\n",
              "      <td>1</td>\n",
              "    </tr>\n",
              "    <tr>\n",
              "      <th>1</th>\n",
              "      <td>822109</td>\n",
              "      <td>5.0</td>\n",
              "      <td>2005-05-13</td>\n",
              "      <td>1</td>\n",
              "    </tr>\n",
              "    <tr>\n",
              "      <th>2</th>\n",
              "      <td>885013</td>\n",
              "      <td>4.0</td>\n",
              "      <td>2005-10-19</td>\n",
              "      <td>1</td>\n",
              "    </tr>\n",
              "    <tr>\n",
              "      <th>3</th>\n",
              "      <td>30878</td>\n",
              "      <td>4.0</td>\n",
              "      <td>2005-12-26</td>\n",
              "      <td>1</td>\n",
              "    </tr>\n",
              "    <tr>\n",
              "      <th>4</th>\n",
              "      <td>823519</td>\n",
              "      <td>3.0</td>\n",
              "      <td>2004-05-03</td>\n",
              "      <td>1</td>\n",
              "    </tr>\n",
              "  </tbody>\n",
              "</table>\n",
              "</div>"
            ],
            "text/plain": [
              "   Cust_Id  Rating        Date  Movie_Id\n",
              "0  1488844     3.0  2005-09-06         1\n",
              "1   822109     5.0  2005-05-13         1\n",
              "2   885013     4.0  2005-10-19         1\n",
              "3    30878     4.0  2005-12-26         1\n",
              "4   823519     3.0  2004-05-03         1"
            ]
          },
          "metadata": {},
          "execution_count": 20
        }
      ]
    },
    {
      "cell_type": "code",
      "metadata": {
        "colab": {
          "base_uri": "https://localhost:8080/",
          "height": 203
        },
        "id": "1fyun0J3KhzZ",
        "outputId": "d085a846-d425-4cfa-986b-ee47f248ad13"
      },
      "source": [
        "#Utilizamos a função '.head' para imprimir as cinco primeiras linhas com todas as colunas\n",
        "df_movies.head(5)"
      ],
      "execution_count": 21,
      "outputs": [
        {
          "output_type": "execute_result",
          "data": {
            "text/html": [
              "<div>\n",
              "<style scoped>\n",
              "    .dataframe tbody tr th:only-of-type {\n",
              "        vertical-align: middle;\n",
              "    }\n",
              "\n",
              "    .dataframe tbody tr th {\n",
              "        vertical-align: top;\n",
              "    }\n",
              "\n",
              "    .dataframe thead th {\n",
              "        text-align: right;\n",
              "    }\n",
              "</style>\n",
              "<table border=\"1\" class=\"dataframe\">\n",
              "  <thead>\n",
              "    <tr style=\"text-align: right;\">\n",
              "      <th></th>\n",
              "      <th>Movie_Id</th>\n",
              "      <th>movie</th>\n",
              "    </tr>\n",
              "  </thead>\n",
              "  <tbody>\n",
              "    <tr>\n",
              "      <th>0</th>\n",
              "      <td>1</td>\n",
              "      <td>(Dinosaur Planet, 2003)</td>\n",
              "    </tr>\n",
              "    <tr>\n",
              "      <th>1</th>\n",
              "      <td>2</td>\n",
              "      <td>(Isle of Man TT 2004 Review, 2004)</td>\n",
              "    </tr>\n",
              "    <tr>\n",
              "      <th>2</th>\n",
              "      <td>3</td>\n",
              "      <td>(Character, 1997)</td>\n",
              "    </tr>\n",
              "    <tr>\n",
              "      <th>3</th>\n",
              "      <td>4</td>\n",
              "      <td>(Paula Abdul's Get Up &amp; Dance, 1994)</td>\n",
              "    </tr>\n",
              "    <tr>\n",
              "      <th>4</th>\n",
              "      <td>5</td>\n",
              "      <td>(The Rise and Fall of ECW, 2004)</td>\n",
              "    </tr>\n",
              "  </tbody>\n",
              "</table>\n",
              "</div>"
            ],
            "text/plain": [
              "   Movie_Id                                 movie\n",
              "0         1               (Dinosaur Planet, 2003)\n",
              "1         2    (Isle of Man TT 2004 Review, 2004)\n",
              "2         3                     (Character, 1997)\n",
              "3         4  (Paula Abdul's Get Up & Dance, 1994)\n",
              "4         5      (The Rise and Fall of ECW, 2004)"
            ]
          },
          "metadata": {},
          "execution_count": 21
        }
      ]
    },
    {
      "cell_type": "code",
      "metadata": {
        "colab": {
          "base_uri": "https://localhost:8080/",
          "height": 203
        },
        "id": "1BMPe_2TNPBZ",
        "outputId": "593412de-fa54-4573-d991-4fbebea3589e"
      },
      "source": [
        "#A função '.tail' mostra as últimas cinco linhas do data frame\n",
        "df_movies.tail(5)"
      ],
      "execution_count": 22,
      "outputs": [
        {
          "output_type": "execute_result",
          "data": {
            "text/html": [
              "<div>\n",
              "<style scoped>\n",
              "    .dataframe tbody tr th:only-of-type {\n",
              "        vertical-align: middle;\n",
              "    }\n",
              "\n",
              "    .dataframe tbody tr th {\n",
              "        vertical-align: top;\n",
              "    }\n",
              "\n",
              "    .dataframe thead th {\n",
              "        text-align: right;\n",
              "    }\n",
              "</style>\n",
              "<table border=\"1\" class=\"dataframe\">\n",
              "  <thead>\n",
              "    <tr style=\"text-align: right;\">\n",
              "      <th></th>\n",
              "      <th>Movie_Id</th>\n",
              "      <th>movie</th>\n",
              "    </tr>\n",
              "  </thead>\n",
              "  <tbody>\n",
              "    <tr>\n",
              "      <th>4494</th>\n",
              "      <td>4495</td>\n",
              "      <td>(Clifford: Happy Birthday Clifford / Puppy Lov...</td>\n",
              "    </tr>\n",
              "    <tr>\n",
              "      <th>4495</th>\n",
              "      <td>4496</td>\n",
              "      <td>(Farewell My Concubine, 1993)</td>\n",
              "    </tr>\n",
              "    <tr>\n",
              "      <th>4496</th>\n",
              "      <td>4497</td>\n",
              "      <td>(Texasville, 1990)</td>\n",
              "    </tr>\n",
              "    <tr>\n",
              "      <th>4497</th>\n",
              "      <td>4498</td>\n",
              "      <td>(Gonin, 2000)</td>\n",
              "    </tr>\n",
              "    <tr>\n",
              "      <th>4498</th>\n",
              "      <td>4499</td>\n",
              "      <td>(In My Skin, 2002)</td>\n",
              "    </tr>\n",
              "  </tbody>\n",
              "</table>\n",
              "</div>"
            ],
            "text/plain": [
              "      Movie_Id                                              movie\n",
              "4494      4495  (Clifford: Happy Birthday Clifford / Puppy Lov...\n",
              "4495      4496                      (Farewell My Concubine, 1993)\n",
              "4496      4497                                 (Texasville, 1990)\n",
              "4497      4498                                      (Gonin, 2000)\n",
              "4498      4499                                 (In My Skin, 2002)"
            ]
          },
          "metadata": {},
          "execution_count": 22
        }
      ]
    },
    {
      "cell_type": "code",
      "metadata": {
        "id": "jmOpSXxWQECG"
      },
      "source": [
        "#Aqui criamos a coluna 'Ano' aplicando uma função oculta que fez com a partir da vírgula na coluna 'movie' fosse feito uma quebra de string para lista pela função '.split'\n",
        "#essa foi colocada na coluna 'Ano' que foi criada. Percebe-se que a quebra se fez após a vírgula no segundo índice '[1]'\n",
        "df_movies['Ano'] = df_movies['movie'].apply(lambda x: x.split(',')[1].strip().replace(')',''))"
      ],
      "execution_count": 23,
      "outputs": []
    },
    {
      "cell_type": "code",
      "metadata": {
        "colab": {
          "base_uri": "https://localhost:8080/",
          "height": 203
        },
        "id": "Va8Z6eU6R_bE",
        "outputId": "6e831653-178a-48c6-a379-fdf0921f39e4"
      },
      "source": [
        "#Chamamos a função '.head' de novo para nos mostrar como está o dataframe depois que adicionamos a coluna 'Ano' a ele.\n",
        "df_movies.head()"
      ],
      "execution_count": 24,
      "outputs": [
        {
          "output_type": "execute_result",
          "data": {
            "text/html": [
              "<div>\n",
              "<style scoped>\n",
              "    .dataframe tbody tr th:only-of-type {\n",
              "        vertical-align: middle;\n",
              "    }\n",
              "\n",
              "    .dataframe tbody tr th {\n",
              "        vertical-align: top;\n",
              "    }\n",
              "\n",
              "    .dataframe thead th {\n",
              "        text-align: right;\n",
              "    }\n",
              "</style>\n",
              "<table border=\"1\" class=\"dataframe\">\n",
              "  <thead>\n",
              "    <tr style=\"text-align: right;\">\n",
              "      <th></th>\n",
              "      <th>Movie_Id</th>\n",
              "      <th>movie</th>\n",
              "      <th>Ano</th>\n",
              "    </tr>\n",
              "  </thead>\n",
              "  <tbody>\n",
              "    <tr>\n",
              "      <th>0</th>\n",
              "      <td>1</td>\n",
              "      <td>(Dinosaur Planet, 2003)</td>\n",
              "      <td>2003</td>\n",
              "    </tr>\n",
              "    <tr>\n",
              "      <th>1</th>\n",
              "      <td>2</td>\n",
              "      <td>(Isle of Man TT 2004 Review, 2004)</td>\n",
              "      <td>2004</td>\n",
              "    </tr>\n",
              "    <tr>\n",
              "      <th>2</th>\n",
              "      <td>3</td>\n",
              "      <td>(Character, 1997)</td>\n",
              "      <td>1997</td>\n",
              "    </tr>\n",
              "    <tr>\n",
              "      <th>3</th>\n",
              "      <td>4</td>\n",
              "      <td>(Paula Abdul's Get Up &amp; Dance, 1994)</td>\n",
              "      <td>1994</td>\n",
              "    </tr>\n",
              "    <tr>\n",
              "      <th>4</th>\n",
              "      <td>5</td>\n",
              "      <td>(The Rise and Fall of ECW, 2004)</td>\n",
              "      <td>2004</td>\n",
              "    </tr>\n",
              "  </tbody>\n",
              "</table>\n",
              "</div>"
            ],
            "text/plain": [
              "   Movie_Id                                 movie   Ano\n",
              "0         1               (Dinosaur Planet, 2003)  2003\n",
              "1         2    (Isle of Man TT 2004 Review, 2004)  2004\n",
              "2         3                     (Character, 1997)  1997\n",
              "3         4  (Paula Abdul's Get Up & Dance, 1994)  1994\n",
              "4         5      (The Rise and Fall of ECW, 2004)  2004"
            ]
          },
          "metadata": {},
          "execution_count": 24
        }
      ]
    },
    {
      "cell_type": "code",
      "metadata": {
        "id": "3LdOvrVQSBTa"
      },
      "source": [
        "#Criação da coluna 'Nome_Filme' a partir da quebra da string na coluna 'movie' e realizamos a troca do parenteses e da vírgula por espaço em branco.\n",
        "df_movies['Nome_Filme'] = df_movies['movie'].apply(lambda x: x.split(',')[0].replace('(',''))"
      ],
      "execution_count": 26,
      "outputs": []
    },
    {
      "cell_type": "code",
      "metadata": {
        "id": "VoGTb1vFKf4v",
        "colab": {
          "base_uri": "https://localhost:8080/",
          "height": 203
        },
        "outputId": "871559c6-1a8d-4ac1-fb27-0323a745bc8d"
      },
      "source": [
        "#Usamos o '.head' para checarmos como está o dataframe original com as novas colunas.\n",
        "df_movies.head()"
      ],
      "execution_count": 27,
      "outputs": [
        {
          "output_type": "execute_result",
          "data": {
            "text/html": [
              "<div>\n",
              "<style scoped>\n",
              "    .dataframe tbody tr th:only-of-type {\n",
              "        vertical-align: middle;\n",
              "    }\n",
              "\n",
              "    .dataframe tbody tr th {\n",
              "        vertical-align: top;\n",
              "    }\n",
              "\n",
              "    .dataframe thead th {\n",
              "        text-align: right;\n",
              "    }\n",
              "</style>\n",
              "<table border=\"1\" class=\"dataframe\">\n",
              "  <thead>\n",
              "    <tr style=\"text-align: right;\">\n",
              "      <th></th>\n",
              "      <th>Movie_Id</th>\n",
              "      <th>movie</th>\n",
              "      <th>Ano</th>\n",
              "      <th>Nome_Filme</th>\n",
              "    </tr>\n",
              "  </thead>\n",
              "  <tbody>\n",
              "    <tr>\n",
              "      <th>0</th>\n",
              "      <td>1</td>\n",
              "      <td>(Dinosaur Planet, 2003)</td>\n",
              "      <td>2003</td>\n",
              "      <td>Dinosaur Planet</td>\n",
              "    </tr>\n",
              "    <tr>\n",
              "      <th>1</th>\n",
              "      <td>2</td>\n",
              "      <td>(Isle of Man TT 2004 Review, 2004)</td>\n",
              "      <td>2004</td>\n",
              "      <td>Isle of Man TT 2004 Review</td>\n",
              "    </tr>\n",
              "    <tr>\n",
              "      <th>2</th>\n",
              "      <td>3</td>\n",
              "      <td>(Character, 1997)</td>\n",
              "      <td>1997</td>\n",
              "      <td>Character</td>\n",
              "    </tr>\n",
              "    <tr>\n",
              "      <th>3</th>\n",
              "      <td>4</td>\n",
              "      <td>(Paula Abdul's Get Up &amp; Dance, 1994)</td>\n",
              "      <td>1994</td>\n",
              "      <td>Paula Abdul's Get Up &amp; Dance</td>\n",
              "    </tr>\n",
              "    <tr>\n",
              "      <th>4</th>\n",
              "      <td>5</td>\n",
              "      <td>(The Rise and Fall of ECW, 2004)</td>\n",
              "      <td>2004</td>\n",
              "      <td>The Rise and Fall of ECW</td>\n",
              "    </tr>\n",
              "  </tbody>\n",
              "</table>\n",
              "</div>"
            ],
            "text/plain": [
              "   Movie_Id  ...                    Nome_Filme\n",
              "0         1  ...               Dinosaur Planet\n",
              "1         2  ...    Isle of Man TT 2004 Review\n",
              "2         3  ...                     Character\n",
              "3         4  ...  Paula Abdul's Get Up & Dance\n",
              "4         5  ...      The Rise and Fall of ECW\n",
              "\n",
              "[5 rows x 4 columns]"
            ]
          },
          "metadata": {},
          "execution_count": 27
        }
      ]
    },
    {
      "cell_type": "code",
      "metadata": {
        "colab": {
          "base_uri": "https://localhost:8080/",
          "height": 49
        },
        "id": "lZWPznI45OB8",
        "outputId": "0fc0a22a-9f67-4f9b-b279-b42d8cdcb5af"
      },
      "source": [
        "#usamos a função .duplicated para retornar um valor verdadeiro se houver alguma linha duplicada. No caso abaixo, nenhum valor é duplicado.\n",
        "df_movies[df_movies.duplicated()]"
      ],
      "execution_count": 28,
      "outputs": [
        {
          "output_type": "execute_result",
          "data": {
            "text/html": [
              "<div>\n",
              "<style scoped>\n",
              "    .dataframe tbody tr th:only-of-type {\n",
              "        vertical-align: middle;\n",
              "    }\n",
              "\n",
              "    .dataframe tbody tr th {\n",
              "        vertical-align: top;\n",
              "    }\n",
              "\n",
              "    .dataframe thead th {\n",
              "        text-align: right;\n",
              "    }\n",
              "</style>\n",
              "<table border=\"1\" class=\"dataframe\">\n",
              "  <thead>\n",
              "    <tr style=\"text-align: right;\">\n",
              "      <th></th>\n",
              "      <th>Movie_Id</th>\n",
              "      <th>movie</th>\n",
              "      <th>Ano</th>\n",
              "      <th>Nome_Filme</th>\n",
              "    </tr>\n",
              "  </thead>\n",
              "  <tbody>\n",
              "  </tbody>\n",
              "</table>\n",
              "</div>"
            ],
            "text/plain": [
              "Empty DataFrame\n",
              "Columns: [Movie_Id, movie, Ano, Nome_Filme]\n",
              "Index: []"
            ]
          },
          "metadata": {},
          "execution_count": 28
        }
      ]
    },
    {
      "cell_type": "code",
      "metadata": {
        "colab": {
          "base_uri": "https://localhost:8080/",
          "height": 49
        },
        "id": "fbkgLw63ISeK",
        "outputId": "08484e30-57d4-4ec2-a4a5-382e7ff37bb9"
      },
      "source": [
        "df_customers_rating[df_customers_rating.duplicated()]"
      ],
      "execution_count": 29,
      "outputs": [
        {
          "output_type": "execute_result",
          "data": {
            "text/html": [
              "<div>\n",
              "<style scoped>\n",
              "    .dataframe tbody tr th:only-of-type {\n",
              "        vertical-align: middle;\n",
              "    }\n",
              "\n",
              "    .dataframe tbody tr th {\n",
              "        vertical-align: top;\n",
              "    }\n",
              "\n",
              "    .dataframe thead th {\n",
              "        text-align: right;\n",
              "    }\n",
              "</style>\n",
              "<table border=\"1\" class=\"dataframe\">\n",
              "  <thead>\n",
              "    <tr style=\"text-align: right;\">\n",
              "      <th></th>\n",
              "      <th>Cust_Id</th>\n",
              "      <th>Rating</th>\n",
              "      <th>Date</th>\n",
              "      <th>Movie_Id</th>\n",
              "    </tr>\n",
              "  </thead>\n",
              "  <tbody>\n",
              "  </tbody>\n",
              "</table>\n",
              "</div>"
            ],
            "text/plain": [
              "Empty DataFrame\n",
              "Columns: [Cust_Id, Rating, Date, Movie_Id]\n",
              "Index: []"
            ]
          },
          "metadata": {},
          "execution_count": 29
        }
      ]
    },
    {
      "cell_type": "code",
      "metadata": {
        "id": "KawLUndePNDz"
      },
      "source": [
        "#Aqui criamos um outro dataframe para podermos manipula-lo sem alterar o conteúdo original. Descartamos a coluna 'movie' do dataframe original.\n",
        "#Pois conseguimos manusear nomes e anos dos filmes de forma separada.\n",
        "df_movies_filter = df_movies.drop(columns='movie')"
      ],
      "execution_count": 40,
      "outputs": []
    },
    {
      "cell_type": "code",
      "metadata": {
        "colab": {
          "base_uri": "https://localhost:8080/",
          "height": 203
        },
        "id": "Sfr0J6vN4nr1",
        "outputId": "acb4b9de-2bd6-4f7c-ed1d-19234897ae09"
      },
      "source": [
        "#.head para imprimir as cinco primeiras linhas do novo dataframe. \n",
        "df_movies_filter.head()"
      ],
      "execution_count": 31,
      "outputs": [
        {
          "output_type": "execute_result",
          "data": {
            "text/html": [
              "<div>\n",
              "<style scoped>\n",
              "    .dataframe tbody tr th:only-of-type {\n",
              "        vertical-align: middle;\n",
              "    }\n",
              "\n",
              "    .dataframe tbody tr th {\n",
              "        vertical-align: top;\n",
              "    }\n",
              "\n",
              "    .dataframe thead th {\n",
              "        text-align: right;\n",
              "    }\n",
              "</style>\n",
              "<table border=\"1\" class=\"dataframe\">\n",
              "  <thead>\n",
              "    <tr style=\"text-align: right;\">\n",
              "      <th></th>\n",
              "      <th>Movie_Id</th>\n",
              "      <th>Ano</th>\n",
              "      <th>Nome_Filme</th>\n",
              "    </tr>\n",
              "  </thead>\n",
              "  <tbody>\n",
              "    <tr>\n",
              "      <th>0</th>\n",
              "      <td>1</td>\n",
              "      <td>2003</td>\n",
              "      <td>Dinosaur Planet</td>\n",
              "    </tr>\n",
              "    <tr>\n",
              "      <th>1</th>\n",
              "      <td>2</td>\n",
              "      <td>2004</td>\n",
              "      <td>Isle of Man TT 2004 Review</td>\n",
              "    </tr>\n",
              "    <tr>\n",
              "      <th>2</th>\n",
              "      <td>3</td>\n",
              "      <td>1997</td>\n",
              "      <td>Character</td>\n",
              "    </tr>\n",
              "    <tr>\n",
              "      <th>3</th>\n",
              "      <td>4</td>\n",
              "      <td>1994</td>\n",
              "      <td>Paula Abdul's Get Up &amp; Dance</td>\n",
              "    </tr>\n",
              "    <tr>\n",
              "      <th>4</th>\n",
              "      <td>5</td>\n",
              "      <td>2004</td>\n",
              "      <td>The Rise and Fall of ECW</td>\n",
              "    </tr>\n",
              "  </tbody>\n",
              "</table>\n",
              "</div>"
            ],
            "text/plain": [
              "   Movie_Id   Ano                    Nome_Filme\n",
              "0         1  2003               Dinosaur Planet\n",
              "1         2  2004    Isle of Man TT 2004 Review\n",
              "2         3  1997                     Character\n",
              "3         4  1994  Paula Abdul's Get Up & Dance\n",
              "4         5  2004      The Rise and Fall of ECW"
            ]
          },
          "metadata": {},
          "execution_count": 31
        }
      ]
    },
    {
      "cell_type": "code",
      "metadata": {
        "colab": {
          "base_uri": "https://localhost:8080/"
        },
        "id": "_EKPedl-9eIo",
        "outputId": "aa5f2b60-b102-4455-e330-d23d1a6f851c"
      },
      "source": [
        "#Aqui podemos ver que temos apenas 2 tabelas.\n",
        "df_movies_filter.info()"
      ],
      "execution_count": 32,
      "outputs": [
        {
          "output_type": "stream",
          "name": "stdout",
          "text": [
            "<class 'pandas.core.frame.DataFrame'>\n",
            "RangeIndex: 4499 entries, 0 to 4498\n",
            "Data columns (total 3 columns):\n",
            " #   Column      Non-Null Count  Dtype \n",
            "---  ------      --------------  ----- \n",
            " 0   Movie_Id    4499 non-null   int64 \n",
            " 1   Ano         4499 non-null   object\n",
            " 2   Nome_Filme  4499 non-null   object\n",
            "dtypes: int64(1), object(2)\n",
            "memory usage: 105.6+ KB\n"
          ]
        }
      ]
    },
    {
      "cell_type": "code",
      "metadata": {
        "colab": {
          "base_uri": "https://localhost:8080/"
        },
        "id": "9w5izwZM-NBa",
        "outputId": "d88ff762-f187-4665-f49e-ca6b4640f1a7"
      },
      "source": [
        "#Questão 1.3 - Os cinco anos que menos lançaram filme estão listados abaixo.\n",
        "#Agrupamos por ano, colocamos para contar a quantidade de itens na coluna 'Nome_Filme' em ordem crescente, os cinco primeiros itens. \n",
        "df_movies_filter.groupby(by='Ano')['Nome_Filme'].count().sort_values(ascending = True).head(5)\n",
        "#Houve anos que teve o mesmo número de lançamento (1916,1918,1924,1929,1931)"
      ],
      "execution_count": 41,
      "outputs": [
        {
          "output_type": "execute_result",
          "data": {
            "text/plain": [
              "Ano\n",
              "1915    1\n",
              "1917    1\n",
              "1922    1\n",
              "1926    1\n",
              "1916    2\n",
              "Name: Nome_Filme, dtype: int64"
            ]
          },
          "metadata": {},
          "execution_count": 41
        }
      ]
    },
    {
      "cell_type": "code",
      "metadata": {
        "id": "McCqgoQhNn8y"
      },
      "source": [
        "#Aqui colocamos a coluna 'Movie_Id' como index para podermos depois realizar um inner join pela coluna igual entre os datasets.\n",
        "#a dropamos para que quando for realizad o join, haja apenas uma coluna 'Movie_Id' para nós termos como referência.\n",
        "df_movies_filter.index = df_movies_filter['Movie_Id']\n",
        "df_movies_filter.drop(columns='Movie_Id', inplace=True)"
      ],
      "execution_count": 42,
      "outputs": []
    },
    {
      "cell_type": "code",
      "metadata": {
        "id": "FlMp6cfTJQbo"
      },
      "source": [
        "#Para podermos analisar as informações de avaliações dos filmes, precisamos juntar as tabelas de avaliação e filmes para podermos fazer as análises necessárias\n",
        "#Aqui criamos um novo dataframe contendo a junção das tabelas de customers e movies, usando a coluna 'movie id' como chave de join.\n",
        "df_total = df_customers_rating.join(df_movies_filter, on = 'Movie_Id', how = 'inner')"
      ],
      "execution_count": 43,
      "outputs": []
    },
    {
      "cell_type": "code",
      "metadata": {
        "colab": {
          "base_uri": "https://localhost:8080/",
          "height": 203
        },
        "id": "mS0Ex1yQLvJY",
        "outputId": "16f4cf58-6a49-4395-c8ab-d3756485d6c2"
      },
      "source": [
        "df_total.head(5)"
      ],
      "execution_count": 44,
      "outputs": [
        {
          "output_type": "execute_result",
          "data": {
            "text/html": [
              "<div>\n",
              "<style scoped>\n",
              "    .dataframe tbody tr th:only-of-type {\n",
              "        vertical-align: middle;\n",
              "    }\n",
              "\n",
              "    .dataframe tbody tr th {\n",
              "        vertical-align: top;\n",
              "    }\n",
              "\n",
              "    .dataframe thead th {\n",
              "        text-align: right;\n",
              "    }\n",
              "</style>\n",
              "<table border=\"1\" class=\"dataframe\">\n",
              "  <thead>\n",
              "    <tr style=\"text-align: right;\">\n",
              "      <th></th>\n",
              "      <th>Cust_Id</th>\n",
              "      <th>Rating</th>\n",
              "      <th>Date</th>\n",
              "      <th>Movie_Id</th>\n",
              "      <th>Ano</th>\n",
              "      <th>Nome_Filme</th>\n",
              "    </tr>\n",
              "  </thead>\n",
              "  <tbody>\n",
              "    <tr>\n",
              "      <th>0</th>\n",
              "      <td>1488844</td>\n",
              "      <td>3.0</td>\n",
              "      <td>2005-09-06</td>\n",
              "      <td>1</td>\n",
              "      <td>2003</td>\n",
              "      <td>Dinosaur Planet</td>\n",
              "    </tr>\n",
              "    <tr>\n",
              "      <th>1</th>\n",
              "      <td>822109</td>\n",
              "      <td>5.0</td>\n",
              "      <td>2005-05-13</td>\n",
              "      <td>1</td>\n",
              "      <td>2003</td>\n",
              "      <td>Dinosaur Planet</td>\n",
              "    </tr>\n",
              "    <tr>\n",
              "      <th>2</th>\n",
              "      <td>885013</td>\n",
              "      <td>4.0</td>\n",
              "      <td>2005-10-19</td>\n",
              "      <td>1</td>\n",
              "      <td>2003</td>\n",
              "      <td>Dinosaur Planet</td>\n",
              "    </tr>\n",
              "    <tr>\n",
              "      <th>3</th>\n",
              "      <td>30878</td>\n",
              "      <td>4.0</td>\n",
              "      <td>2005-12-26</td>\n",
              "      <td>1</td>\n",
              "      <td>2003</td>\n",
              "      <td>Dinosaur Planet</td>\n",
              "    </tr>\n",
              "    <tr>\n",
              "      <th>4</th>\n",
              "      <td>823519</td>\n",
              "      <td>3.0</td>\n",
              "      <td>2004-05-03</td>\n",
              "      <td>1</td>\n",
              "      <td>2003</td>\n",
              "      <td>Dinosaur Planet</td>\n",
              "    </tr>\n",
              "  </tbody>\n",
              "</table>\n",
              "</div>"
            ],
            "text/plain": [
              "   Cust_Id  Rating        Date  Movie_Id   Ano       Nome_Filme\n",
              "0  1488844     3.0  2005-09-06         1  2003  Dinosaur Planet\n",
              "1   822109     5.0  2005-05-13         1  2003  Dinosaur Planet\n",
              "2   885013     4.0  2005-10-19         1  2003  Dinosaur Planet\n",
              "3    30878     4.0  2005-12-26         1  2003  Dinosaur Planet\n",
              "4   823519     3.0  2004-05-03         1  2003  Dinosaur Planet"
            ]
          },
          "metadata": {},
          "execution_count": 44
        }
      ]
    },
    {
      "cell_type": "code",
      "metadata": {
        "colab": {
          "base_uri": "https://localhost:8080/"
        },
        "id": "qOIM_3UbLBiR",
        "outputId": "e257ad27-485b-4705-fb8c-d434e13c1dda"
      },
      "source": [
        "#Questão 1.2 - Os cinco melhores filmes em média de avaliação estão listados abaixo.\n",
        "#Usamos da mesma lógica para responder a 1.3; usamos a coluna 'Nome_Filme' como coluna de filtro, e colocamos a média das avaliações\n",
        "#em ordem decrescente, imprimos os 5 primeiros valores para obtermos a resposta da pergunta.\n",
        "df_total.groupby(by='Nome_Filme')['Rating'].mean().sort_values(ascending=False).head(5)"
      ],
      "execution_count": 45,
      "outputs": [
        {
          "output_type": "execute_result",
          "data": {
            "text/plain": [
              "Nome_Filme\n",
              "Lost: Season 1                                                                 4.670989\n",
              "Ghost in the Shell: Stand Alone Complex: 2nd Gig                               4.586364\n",
              "The Simpsons: Season 6                                                         4.581296\n",
              "Inu-Yasha                                                                      4.554434\n",
              "Lord of the Rings: The Return of the King: Extended Edition: Bonus Material    4.552000\n",
              "Name: Rating, dtype: float64"
            ]
          },
          "metadata": {},
          "execution_count": 45
        }
      ]
    },
    {
      "cell_type": "code",
      "metadata": {
        "id": "WM0iMq1GL9m5"
      },
      "source": [
        "#Questão 1.4"
      ],
      "execution_count": null,
      "outputs": []
    },
    {
      "cell_type": "code",
      "metadata": {
        "id": "u1a4VM69Otw9"
      },
      "source": [
        "#Transformamos a coluna 'Date' em uma coluna do tipo 'DATETIME' para podermos manipular as datas.\n",
        "df_total['Date']= pd.to_datetime(df_total['Date'])"
      ],
      "execution_count": 46,
      "outputs": []
    },
    {
      "cell_type": "code",
      "metadata": {
        "colab": {
          "base_uri": "https://localhost:8080/"
        },
        "id": "138HjcLbO6tq",
        "outputId": "6a0c6b41-2fa6-4a97-a39f-12fa82b58feb"
      },
      "source": [
        "#Percebe-se que a coluna 'Date' agora é uma coluna do tipo 'datetime'\n",
        "df_total.info()"
      ],
      "execution_count": 47,
      "outputs": [
        {
          "output_type": "stream",
          "name": "stdout",
          "text": [
            "<class 'pandas.core.frame.DataFrame'>\n",
            "Int64Index: 24053764 entries, 0 to 24053763\n",
            "Data columns (total 6 columns):\n",
            " #   Column      Dtype         \n",
            "---  ------      -----         \n",
            " 0   Cust_Id     int64         \n",
            " 1   Rating      float64       \n",
            " 2   Date        datetime64[ns]\n",
            " 3   Movie_Id    int64         \n",
            " 4   Ano         object        \n",
            " 5   Nome_Filme  object        \n",
            "dtypes: datetime64[ns](1), float64(1), int64(2), object(2)\n",
            "memory usage: 1.3+ GB\n"
          ]
        }
      ]
    },
    {
      "cell_type": "code",
      "metadata": {
        "id": "RODYS3FdPFct"
      },
      "source": [
        "#Aqui criamos um dataframe que recebe os máximos valores únicos de data dentro do dataframe total\n",
        "avaliacao_ultima_data = df_total[df_total['Date'] == df_total['Date'].unique().max()]"
      ],
      "execution_count": 48,
      "outputs": []
    },
    {
      "cell_type": "code",
      "metadata": {
        "id": "bHoFI751Psn-"
      },
      "source": [
        "#criamos um outro dataframe que recebe os valores médios das avaliações da última data agrupadas pelo 'nome_filme' em ordem crescente; usamos o 'reset_index()' para criarmos uma coluna\n",
        "#de index que comece do 0 e vá até o total de linhas.\n",
        "media_avaliacao = avaliacao_ultima_data.groupby(by='Nome_Filme')['Rating'].mean().sort_values(ascending=True).reset_index()"
      ],
      "execution_count": 49,
      "outputs": []
    },
    {
      "cell_type": "code",
      "metadata": {
        "colab": {
          "base_uri": "https://localhost:8080/"
        },
        "id": "AOUlr_vnQ33M",
        "outputId": "fcd00b14-aa75-4c38-bb21-f3152b2a6f65"
      },
      "source": [
        "#Questão 1.4 - abaixo se encontra a quantidade de filmes com média de avaliação acima de 4.7 apenas no último ano de avaliação do dataset.\n",
        "#Chamamos dentro da lista de média de avaliação onde os 'Ratings' que são maiores ou iguais a 4.7. Colocamos 'Nome_Filme'.count() para contar em referência da coluna.\n",
        "media_avaliacao[media_avaliacao['Rating'] >= 4.7]['Nome_Filme'].count()"
      ],
      "execution_count": 50,
      "outputs": [
        {
          "output_type": "execute_result",
          "data": {
            "text/plain": [
              "192"
            ]
          },
          "metadata": {},
          "execution_count": 50
        }
      ]
    },
    {
      "cell_type": "code",
      "metadata": {
        "colab": {
          "base_uri": "https://localhost:8080/"
        },
        "id": "JFtu_T-sR0M4",
        "outputId": "e2b51552-189e-4ae5-abd1-006895b22fca"
      },
      "source": [
        "#Questão 1.5\n",
        "#Aqui nós agrupamos pelo 'Nome_Filme' a média em ordem crescente dos 10 primeiros filmes com a menor nota.\n",
        "avaliacao_ultima_data.groupby(by='Nome_Filme')['Rating'].mean().sort_values(ascending = True).head(10)"
      ],
      "execution_count": 51,
      "outputs": [
        {
          "output_type": "execute_result",
          "data": {
            "text/plain": [
              "Nome_Filme\n",
              "The Muse                                                1.0\n",
              "Commanding Heights: The Battle for the World Economy    1.0\n",
              "Midsomer Murders: Ring Out Your Dead                    1.0\n",
              "Grand Theft Parsons                                     1.0\n",
              "Convict 762                                             1.0\n",
              "Cop and a Half                                          1.0\n",
              "I Love Lucy: Season 2                                   1.0\n",
              "Angel Sanctuary                                         1.0\n",
              "The Closet                                              1.0\n",
              "Slam                                                    1.0\n",
              "Name: Rating, dtype: float64"
            ]
          },
          "metadata": {},
          "execution_count": 51
        }
      ]
    },
    {
      "cell_type": "code",
      "metadata": {
        "colab": {
          "base_uri": "https://localhost:8080/"
        },
        "id": "6DHW-VkDTtQV",
        "outputId": "70a299fe-45e2-4cba-fe67-298b305c41cc"
      },
      "source": [
        "#Questão 1.6 - O ID dos  5 cliente que mais avaliariam e a quantidade de avaliações que ele fez está abaixo.\n",
        "#Aqui nós agrupamos pelo Id do cliente, as cinco primeiras avaliações em ordem decrescente.\n",
        "df_total.groupby(by='Cust_Id')['Rating'].count().sort_values(ascending=False).head(5)"
      ],
      "execution_count": 52,
      "outputs": [
        {
          "output_type": "execute_result",
          "data": {
            "text/plain": [
              "Cust_Id\n",
              "305344     4467\n",
              "387418     4422\n",
              "2439493    4195\n",
              "1664010    4019\n",
              "2118461    3769\n",
              "Name: Rating, dtype: int64"
            ]
          },
          "metadata": {},
          "execution_count": 52
        }
      ]
    },
    {
      "cell_type": "code",
      "metadata": {
        "id": "7GieJfRsY8QL"
      },
      "source": [
        "#Muito Obrigado!"
      ],
      "execution_count": null,
      "outputs": []
    }
  ]
}